{
 "cells": [
  {
   "cell_type": "code",
   "execution_count": 1,
   "metadata": {},
   "outputs": [
    {
     "name": "stdout",
     "output_type": "stream",
     "text": [
      "__name__\n",
      "__doc__\n",
      "__package__\n",
      "__loader__\n",
      "__spec__\n",
      "_array_reconstructor\n",
      "ArrayType\n",
      "array\n",
      "typecodes\n"
     ]
    }
   ],
   "source": [
    "#1. Write a Python program to import a built-in array module and display the namespace of the said module\n",
    "import array\n",
    "for name in array.__dict__:\n",
    "    print(name)\n"
   ]
  },
  {
   "cell_type": "code",
   "execution_count": 3,
   "metadata": {},
   "outputs": [
    {
     "name": "stdout",
     "output_type": "stream",
     "text": [
      "__module__\n",
      "__init__\n",
      "summary\n",
      "__dict__\n",
      "__weakref__\n",
      "__doc__\n"
     ]
    }
   ],
   "source": [
    "#2. Write a Python program to create a class and display the namespace of that class.\n",
    "class Book:\n",
    "    def __init__(self, title, author, pages):\n",
    "        self.title = title\n",
    "        self.author = author\n",
    "        self.pages = pages\n",
    "    def summary(self):\n",
    "        return f'Title: {self.title}, Author: {self.author}, Pages: {self.pages}'\n",
    "    \n",
    "\n",
    "for name in Book.__dict__:\n",
    "    print(name)"
   ]
  },
  {
   "cell_type": "code",
   "execution_count": 8,
   "metadata": {},
   "outputs": [
    {
     "name": "stdout",
     "output_type": "stream",
     "text": [
      "{'student_id': '001', 'student_name': 'Lucas', 'student_lastname': 'Moura', 'class_name': 'A'}\n"
     ]
    }
   ],
   "source": [
    "#3. Write a Python program to create an instance of a specified class and display the namespace of the said instance.\n",
    "class Student:\n",
    "    def __init__(self, student_id, student_name, student_lastname, class_name):\n",
    "        self.student_id =student_id\n",
    "        self.student_name = student_name\n",
    "        self.student_lastname = student_lastname\n",
    "        self.class_name = class_name\n",
    "stu = Student('001', 'Lucas', 'Moura', 'A')\n",
    "print(stu.__dict__)"
   ]
  },
  {
   "cell_type": "code",
   "execution_count": 9,
   "metadata": {},
   "outputs": [
    {
     "name": "stdout",
     "output_type": "stream",
     "text": [
      "Help on built-in function abs in module builtins:\n",
      "\n",
      "abs(x, /)\n",
      "    Return the absolute value of the argument.\n",
      "\n",
      "155\n"
     ]
    }
   ],
   "source": [
    "#4. 'builtins' module provides direct access to all 'built-in' identifiers of Python.\n",
    "#Write a Python program that imports the abs() function using the builtins module, displays the documentation of the abs() function and finds the absolute value of -155.\n",
    "\n",
    "import builtins\n",
    "help(builtins.abs)\n",
    "print(builtins.abs(-155))"
   ]
  },
  {
   "cell_type": "code",
   "execution_count": 10,
   "metadata": {},
   "outputs": [
    {
     "name": "stdout",
     "output_type": "stream",
     "text": [
      "155\n"
     ]
    }
   ],
   "source": [
    "print(abs(-155))"
   ]
  },
  {
   "cell_type": "code",
   "execution_count": 12,
   "metadata": {},
   "outputs": [
    {
     "name": "stdout",
     "output_type": "stream",
     "text": [
      "\n",
      "    Student Id: 001\n",
      "    Student Name: Paul\n",
      "    Student Lastname: Scholes\n",
      "    Student Class: MU1\n",
      "\n"
     ]
    }
   ],
   "source": [
    "#5. Define a Python function student(). Using function attributes display the names of all arguments.\n",
    "\n",
    "def student(student_id, student_name, student_lastname, student_class):\n",
    "    return f'''\n",
    "    Student Id: {student_id}\n",
    "    Student Name: {student_name}\n",
    "    Student Lastname: {student_lastname}\n",
    "    Student Class: {student_class}\n",
    "'''\n",
    "\n",
    "print(student('001', 'Paul', 'Scholes','MU1'))"
   ]
  },
  {
   "cell_type": "code",
   "execution_count": 18,
   "metadata": {},
   "outputs": [
    {
     "name": "stdout",
     "output_type": "stream",
     "text": [
      "\n",
      "Student ID: 001\n",
      "Student Name: John Wick\n",
      "\n",
      "Student ID: 001\n",
      "Student Name: John Wick\n",
      "\n",
      "Student Name:  John Wick\n",
      "Student Class: MV\n"
     ]
    }
   ],
   "source": [
    "#6. Write a Python function student_data () that will print the ID of a student (student_id). If the user passes an argument student_name or student_class the function will print the student name and class.\n",
    "def student_data(student_id, **kwargs):\n",
    "    print(f'\\nStudent ID: {student_id}')\n",
    "    if 'student_name' in kwargs:\n",
    "        print(f'Student Name: {kwargs['student_name']}')\n",
    "\n",
    "    if 'student_name' and 'student_class' in kwargs:\n",
    "        print(f'\\nStudent Name:  {kwargs['student_name']}')\n",
    "        print(f'Student Class: {kwargs['student_class']}')\n",
    "\n",
    "student_data(student_id='001', student_name='John Wick')\n",
    "student_data(student_id='001', student_name='John Wick', student_class='MV')\n"
   ]
  },
  {
   "cell_type": "code",
   "execution_count": 1,
   "metadata": {},
   "outputs": [
    {
     "name": "stdout",
     "output_type": "stream",
     "text": [
      "<class 'type'>\n",
      "dict_keys(['__module__', '__init__', 'information', '__dict__', '__weakref__', '__doc__'])\n",
      "__main__\n"
     ]
    }
   ],
   "source": [
    "#7. Write a simple Python class named Student and display its type. Also, display the __dict__ attribute keys and the value of the __module__ attribute of the Student class.\n",
    "class Student1:\n",
    "    def __init__(self, student_id, student_name,student_class):\n",
    "        self.student_id = student_id\n",
    "        self.student_name = student_name\n",
    "        self.student_class = student_class\n",
    "\n",
    "    def information(self):\n",
    "        return f'{self.student_name} is study in {self.student_class} class'\n",
    "\n",
    "print(type(Student1))\n",
    "print(Student1.__dict__.keys())\n",
    "print(Student1.__module__)"
   ]
  },
  {
   "cell_type": "code",
   "execution_count": 2,
   "metadata": {},
   "outputs": [
    {
     "name": "stdout",
     "output_type": "stream",
     "text": [
      "True\n",
      "False\n",
      "True\n",
      "False\n",
      "True\n",
      "True\n"
     ]
    }
   ],
   "source": [
    "#8. Write a Python program to create two empty classes, Student and Marks. Now create some instances and check whether they are instances of the said classes or not. Also, check whether the said classes are subclasses of the built-in object class or not.\n",
    "\n",
    "class Student():\n",
    "    pass\n",
    "\n",
    "class Marks():\n",
    "    pass\n",
    "\n",
    "stu1 = Student()\n",
    "marks1 = Marks()\n",
    "\n",
    "print(isinstance(stu1,Student))\n",
    "print(isinstance(marks1, Student))\n",
    "print(isinstance(marks1, Marks))\n",
    "print(isinstance(stu1, Marks))\n",
    "\n",
    "print(issubclass(Student, object))\n",
    "print(issubclass(Marks, object))"
   ]
  },
  {
   "cell_type": "code",
   "execution_count": null,
   "metadata": {},
   "outputs": [],
   "source": [
    "#9. Write a Python class named Student with two attributes student_name, marks. Modify the attribute values of the said class and print the original and modified values of the said attributes.\n"
   ]
  },
  {
   "cell_type": "code",
   "execution_count": null,
   "metadata": {},
   "outputs": [],
   "source": []
  }
 ],
 "metadata": {
  "kernelspec": {
   "display_name": "Python 3",
   "language": "python",
   "name": "python3"
  },
  "language_info": {
   "codemirror_mode": {
    "name": "ipython",
    "version": 3
   },
   "file_extension": ".py",
   "mimetype": "text/x-python",
   "name": "python",
   "nbconvert_exporter": "python",
   "pygments_lexer": "ipython3",
   "version": "3.12.8"
  }
 },
 "nbformat": 4,
 "nbformat_minor": 2
}
