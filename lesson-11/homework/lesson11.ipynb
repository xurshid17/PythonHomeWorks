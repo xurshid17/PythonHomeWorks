{
 "cells": [
  {
   "cell_type": "code",
   "execution_count": 6,
   "metadata": {},
   "outputs": [],
   "source": [
    "class Post:\n",
    "    def __init__(self,title, content, author):\n",
    "        self.title = title\n",
    "        self.content = content\n",
    "        self.author = author\n",
    "    \n",
    "\n",
    "    def __str__(self):\n",
    "        return f'Post Title: {self.title}, Content: {self.content}, Author: {self.author}'\n",
    "    \n"
   ]
  },
  {
   "cell_type": "code",
   "execution_count": 7,
   "metadata": {},
   "outputs": [],
   "source": [
    "class Blog:\n",
    "    def __init__(self):\n",
    "        self.posts = []\n",
    "\n",
    "    def add_post(self, post):\n",
    "        self.posts.append(post)\n",
    "\n",
    "    def list_all_post(self):\n",
    "        if not self.posts:\n",
    "            print('No posts available')\n",
    "        for post in self.posts:\n",
    "            print(post)\n",
    "\n",
    "    def display_posts(self, author):\n",
    "        author_posts = [post for post in self.posts if post.author == author ]\n",
    "        if not author_posts:\n",
    "            print(f'No posts found by {author}')\n",
    "        else:\n",
    "            for post in author_posts:\n",
    "                print(post)"
   ]
  },
  {
   "cell_type": "code",
   "execution_count": 8,
   "metadata": {},
   "outputs": [
    {
     "name": "stdout",
     "output_type": "stream",
     "text": [
      "Simple Blog System\n",
      "1.Add a post\n",
      "2.List all posts\n",
      "3.Display posts by a specific author\n",
      "4.Exit\n",
      "Post added successfully.\n",
      "\n",
      "Simple Blog System\n",
      "1.Add a post\n",
      "2.List all posts\n",
      "3.Display posts by a specific author\n",
      "4.Exit\n",
      "Post Title: Tit, Content: lakdjlkajdf, Author: Jl\n",
      "Simple Blog System\n",
      "1.Add a post\n",
      "2.List all posts\n",
      "3.Display posts by a specific author\n",
      "4.Exit\n",
      "Post Title: Tit, Content: lakdjlkajdf, Author: Jl\n",
      "Simple Blog System\n",
      "1.Add a post\n",
      "2.List all posts\n",
      "3.Display posts by a specific author\n",
      "4.Exit\n",
      "Exiting the blog system.\n"
     ]
    }
   ],
   "source": [
    "def main():\n",
    "    blog = Blog()\n",
    "\n",
    "    while True:\n",
    "        print('Simple Blog System')\n",
    "        print('1.Add a post')\n",
    "        print('2.List all posts')\n",
    "        print('3.Display posts by a specific author')\n",
    "        print('4.Exit')\n",
    "\n",
    "        choice = input('Choice :')\n",
    "\n",
    "        if choice == '1':\n",
    "            title = input('Enter the title of the post: ')\n",
    "            content = input('Enter the content of the post: ')\n",
    "            author = input('Enter the author name: ')\n",
    "            new_post = Post(title, content, author)\n",
    "            blog.add_post(new_post)\n",
    "            print('Post added successfully.\\n')\n",
    "\n",
    "        elif choice == '2':\n",
    "            blog.list_all_post()\n",
    "\n",
    "        elif choice == '3':\n",
    "            author = input('Enter the author\\'s name: ')\n",
    "            blog.display_posts(author)\n",
    "\n",
    "        elif choice == '4':\n",
    "            print('Exiting the blog system.')\n",
    "            break\n",
    "        \n",
    "        else:\n",
    "            print('Invalid choice. Plesase try again.\\n')\n",
    "\n",
    "\n",
    "if __name__ == '__main__':\n",
    "    main()\n"
   ]
  }
 ],
 "metadata": {
  "kernelspec": {
   "display_name": "Python 3",
   "language": "python",
   "name": "python3"
  },
  "language_info": {
   "codemirror_mode": {
    "name": "ipython",
    "version": 3
   },
   "file_extension": ".py",
   "mimetype": "text/x-python",
   "name": "python",
   "nbconvert_exporter": "python",
   "pygments_lexer": "ipython3",
   "version": "3.12.8"
  }
 },
 "nbformat": 4,
 "nbformat_minor": 2
}
