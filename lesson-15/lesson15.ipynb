{
 "cells": [
  {
   "cell_type": "code",
   "execution_count": 2,
   "metadata": {},
   "outputs": [
    {
     "name": "stdout",
     "output_type": "stream",
     "text": [
      "Weather in Tashkent, Uzbekistan: Mist\n",
      "The temperature is 5.2°C \n",
      "Time in Tashkentn: 2025-02-09 11:53:01 \n",
      "\n",
      "Weather in Moscow, Russia: Overcast\n",
      "The temperature is -3.9°C \n",
      "Time in Moscown: 2025-02-09 09:53:02 \n",
      "\n"
     ]
    },
    {
     "ename": "KeyboardInterrupt",
     "evalue": "",
     "output_type": "error",
     "traceback": [
      "\u001b[1;31m---------------------------------------------------------------------------\u001b[0m",
      "\u001b[1;31mKeyboardInterrupt\u001b[0m                         Traceback (most recent call last)",
      "Cell \u001b[1;32mIn[2], line 44\u001b[0m\n\u001b[0;32m     41\u001b[0m     \u001b[38;5;28mprint\u001b[39m(\u001b[38;5;124mf\u001b[39m\u001b[38;5;124m\"\u001b[39m\u001b[38;5;124mThe temperature is \u001b[39m\u001b[38;5;132;01m{\u001b[39;00mdata[\u001b[38;5;124m'\u001b[39m\u001b[38;5;124mtemp\u001b[39m\u001b[38;5;124m'\u001b[39m]\u001b[38;5;132;01m}\u001b[39;00m\u001b[38;5;124m°C \u001b[39m\u001b[38;5;124m\"\u001b[39m)\n\u001b[0;32m     42\u001b[0m     \u001b[38;5;28mprint\u001b[39m(\u001b[38;5;124mf\u001b[39m\u001b[38;5;124m'\u001b[39m\u001b[38;5;124mTime in \u001b[39m\u001b[38;5;132;01m{\u001b[39;00mdata[\u001b[38;5;124m'\u001b[39m\u001b[38;5;124mname\u001b[39m\u001b[38;5;124m'\u001b[39m]\u001b[38;5;132;01m}\u001b[39;00m\u001b[38;5;124mn: \u001b[39m\u001b[38;5;132;01m{\u001b[39;00mdata[\u001b[38;5;124m'\u001b[39m\u001b[38;5;124mtime\u001b[39m\u001b[38;5;124m'\u001b[39m]\u001b[38;5;132;01m}\u001b[39;00m\u001b[38;5;124m \u001b[39m\u001b[38;5;130;01m\\n\u001b[39;00m\u001b[38;5;124m'\u001b[39m)\n\u001b[1;32m---> 44\u001b[0m \u001b[43mtime\u001b[49m\u001b[38;5;241;43m.\u001b[39;49m\u001b[43msleep\u001b[49m\u001b[43m(\u001b[49m\u001b[38;5;241;43m1\u001b[39;49m\u001b[43m)\u001b[49m\n",
      "\u001b[1;31mKeyboardInterrupt\u001b[0m: "
     ]
    }
   ],
   "source": [
    "import pytz\n",
    "from datetime import datetime\n",
    "import requests\n",
    "import time\n",
    "from IPython.display import display, clear_output\n",
    "\n",
    "api_key = '40d15d5feefe4bdca16110541250602'\n",
    "city = ['Tashkent', 'Moscow']\n",
    "\n",
    "while True:\n",
    "   weather_data = []\n",
    "\n",
    "   for i in city:\n",
    "       url = f'http://api.weatherapi.com/v1/current.json?key={api_key}&q={i}'\n",
    "\n",
    "       response = requests.get(url).json()\n",
    "  \n",
    "\n",
    "       time_zone = response['location']['tz_id']\n",
    "       name = response['location']['name']\n",
    "       country = response['location']['country']\n",
    "       temp = response['current']['temp_c']\n",
    "       weat = response['current']['condition']['text']\n",
    "\n",
    "\n",
    "       time_1 = pytz.timezone(time_zone)\n",
    "       utc_time = datetime.now(pytz.utc)\n",
    "       city1 = utc_time.astimezone(time_1)\n",
    "\n",
    "       weather_data.append({\n",
    "            'name': name,\n",
    "            'country': country,\n",
    "            'temp': temp,\n",
    "            'weat': weat,\n",
    "            'time': city1.strftime('%Y-%m-%d %H:%M:%S')\n",
    "        })\n",
    "       \n",
    "       clear_output(wait=True)\n",
    "       for data in weather_data:\n",
    "           print(f\"Weather in {data['name']}, {data['country']}: {data['weat']}\")\n",
    "           print(f\"The temperature is {data['temp']}°C \")\n",
    "           print(f'Time in {data['name']}n: {data['time']} \\n')\n",
    "       \n",
    "       time.sleep(1)"
   ]
  }
 ],
 "metadata": {
  "kernelspec": {
   "display_name": "Python 3",
   "language": "python",
   "name": "python3"
  },
  "language_info": {
   "codemirror_mode": {
    "name": "ipython",
    "version": 3
   },
   "file_extension": ".py",
   "mimetype": "text/x-python",
   "name": "python",
   "nbconvert_exporter": "python",
   "pygments_lexer": "ipython3",
   "version": "3.12.8"
  }
 },
 "nbformat": 4,
 "nbformat_minor": 2
}
