{
 "cells": [
  {
   "cell_type": "code",
   "execution_count": 4,
   "metadata": {},
   "outputs": [
    {
     "name": "stdout",
     "output_type": "stream",
     "text": [
      "Thread name: Thread-30 (print_name)\n",
      "Thread name: Thread-31 (print_name)\n",
      "Thread name: Thread-32 (print_name)\n",
      "Thread name: Thread-33 (print_name)\n",
      "Thread name: Thread-34 (print_name)\n",
      "Thread name: Thread-35 (print_name)\n"
     ]
    }
   ],
   "source": [
    "import threading\n",
    "def print_name():\n",
    "    print(f'Thread name: {threading.current_thread().name}')\n",
    "\n",
    "threads = []\n",
    "for i in range(6):\n",
    "    thread = threading.Thread(target=print_name)\n",
    "    threads.append(thread)\n",
    "    thread.start()\n",
    "\n",
    "for thread in threads:\n",
    "    thread.join()\n"
   ]
  },
  {
   "cell_type": "code",
   "execution_count": 7,
   "metadata": {},
   "outputs": [
    {
     "name": "stdout",
     "output_type": "stream",
     "text": [
      "Downloading: file_1.jpg\n",
      "Downloading: file_2.jpg\n",
      "Download : file_2.jpg\n",
      "Download : file_1.jpg\n"
     ]
    }
   ],
   "source": [
    "#Write a  Python program to create multiple threads and print their names\n",
    "import requests\n",
    "import threading\n",
    "\n",
    "def download_file(url, filename):\n",
    "    print(f'Downloading: {filename}')\n",
    "    response = requests.get(url)\n",
    "    with open(filename, 'wb') as f:\n",
    "        f.write(response.content)\n",
    "    \n",
    "    print(f'Download : {filename}')\n",
    "\n",
    "urls_filename = [\n",
    "    ('https://upload.wikimedia.org/wikipedia/commons/thumb/5/53/Marlon_Brando_publicity_for_One-Eyed_Jacks.png/220px-Marlon_Brando_publicity_for_One-Eyed_Jacks.png', 'file_1.jpg'),\n",
    "    ('https://upload.wikimedia.org/wikipedia/commons/thumb/2/25/Robert_De_Niro_Cannes_2016_2.jpg/220px-Robert_De_Niro_Cannes_2016_2.jpg', 'file_2.jpg')\n",
    "]\n",
    "\n",
    "threads = []\n",
    "for url, filename in urls_filename:\n",
    "    thread = threading.Thread(target=download_file, args=(url,filename))\n",
    "    threads.append(thread)\n",
    "    thread.start()\n",
    "\n",
    "for thread in threads:\n",
    "    thread.join()\n",
    "    "
   ]
  },
  {
   "cell_type": "code",
   "execution_count": 19,
   "metadata": {},
   "outputs": [
    {
     "name": "stdout",
     "output_type": "stream",
     "text": [
      "[30, 32, 34, 36, 38, 40, 42, 44, 46, 48, 50]\n",
      "[31, 33, 35, 37, 39, 41, 43, 45, 47, 49]\n"
     ]
    }
   ],
   "source": [
    "\n",
    "def even_odd():\n",
    "    even = []\n",
    "    for i in range(30,51):\n",
    "        if i%2 == 0:\n",
    "            even.append(i)\n",
    "    print(even)\n",
    "\n",
    "def odd():\n",
    "    odd_list =[]\n",
    "    for i in range(30,51):\n",
    "        if i % 2 != 0:\n",
    "            odd_list.append(i)\n",
    "    print(odd_list)\n",
    "\n",
    "even_thread = threading.Thread(target=even_odd)\n",
    "odd_thread = threading.Thread(target=odd)\n",
    "\n",
    "even_thread.start()\n",
    "odd_thread.start()\n",
    "\n",
    "even_thread.join()\n",
    "odd_thread.join()\n",
    "\n",
    "\n",
    "\n"
   ]
  },
  {
   "cell_type": "code",
   "execution_count": 4,
   "metadata": {},
   "outputs": [
    {
     "name": "stdout",
     "output_type": "stream",
     "text": [
      "Factorial of 10 is 3628800 in Thread-19 (factorial_number)\n",
      "Factorial of 10 is 3628800 in Thread-20 (factorial_number)\n"
     ]
    }
   ],
   "source": [
    "#4. Write a Python program to calculate the factorial of a number using multiple threads.\n",
    "import threading\n",
    "\n",
    "def factorial_number(n):\n",
    "    result = 1\n",
    "    for i in range(1, n+1):\n",
    "        result *= i\n",
    "    print(f\"Factorial of {n} is {result} in {threading.current_thread().name}\")\n",
    "\n",
    "n = 10\n",
    "\n",
    "thread1 = threading.Thread(target=factorial_number, args=(n,))\n",
    "thread2 = threading.Thread(target=factorial_number, args=(n,))\n",
    "\n",
    "thread1.start()\n",
    "thread2.start()\n",
    "\n",
    "thread1.join()\n",
    "thread2.join()\n"
   ]
  },
  {
   "cell_type": "markdown",
   "metadata": {},
   "source": []
  }
 ],
 "metadata": {
  "kernelspec": {
   "display_name": "Python 3",
   "language": "python",
   "name": "python3"
  },
  "language_info": {
   "codemirror_mode": {
    "name": "ipython",
    "version": 3
   },
   "file_extension": ".py",
   "mimetype": "text/x-python",
   "name": "python",
   "nbconvert_exporter": "python",
   "pygments_lexer": "ipython3",
   "version": "3.12.8"
  }
 },
 "nbformat": 4,
 "nbformat_minor": 2
}
