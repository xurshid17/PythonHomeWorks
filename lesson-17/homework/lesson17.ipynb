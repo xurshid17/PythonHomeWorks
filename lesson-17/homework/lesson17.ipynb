{
 "cells": [
  {
   "cell_type": "code",
   "execution_count": 2,
   "metadata": {},
   "outputs": [
    {
     "name": "stdout",
     "output_type": "stream",
     "text": [
      "Name: Kira Nerys, Age: 29\n"
     ]
    }
   ],
   "source": [
    "import pyodbc\n",
    "\n",
    "connection = pyodbc.connect(\"Driver={SQL Server};\"\n",
    "                         \"Server=WIN-JI3TQEC2PKI;\"\n",
    "                         \"Database=W3Resource;\"\n",
    "                         \"Trusted_Connection=yes;\")\n",
    "\n",
    "cursor = connection.cursor()\n",
    "cursor.execute(\"create database People\")\n",
    "cursor.execute(\"use People\")\n",
    "cursor.execute('''\n",
    "create table Roster (\n",
    "    Name varchar(100),\n",
    "    Species varchar(100),\n",
    "    Age int)\n",
    "''')\n",
    "cursor.executemany('''insert into Roster (Name, Species, Age) values (?, ?, ?)''', [\n",
    "    ('Benjamin Sisko', 'Human', 40),\n",
    "    ('Jadzia Dax', 'Trill', 300),\n",
    "    ('Kira Nerys', 'Bajoran', 29)\n",
    "])\n",
    "\n",
    "cursor.execute('''\n",
    "update Roster\n",
    "set Name = 'Ezri Dax'\n",
    "where Name = 'Jadzia Dax'\n",
    "''')\n",
    "\n",
    "cursor.execute('''\n",
    "select Name, Age from Roster\n",
    "where Species = 'Bajoran'\n",
    "''')\n",
    "bajoran = cursor.fetchall()\n",
    "for item in bajoran:\n",
    "    print(f'Name: {item[0]}, Age: {item[1]}')\n",
    "connection.commit()\n",
    "cursor.close()\n",
    "connection.close()"
   ]
  }
 ],
 "metadata": {
  "kernelspec": {
   "display_name": "Python 3",
   "language": "python",
   "name": "python3"
  },
  "language_info": {
   "codemirror_mode": {
    "name": "ipython",
    "version": 3
   },
   "file_extension": ".py",
   "mimetype": "text/x-python",
   "name": "python",
   "nbconvert_exporter": "python",
   "pygments_lexer": "ipython3",
   "version": "3.12.8"
  }
 },
 "nbformat": 4,
 "nbformat_minor": 2
}
