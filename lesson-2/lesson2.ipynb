{
 "cells": [
  {
   "cell_type": "markdown",
   "metadata": {},
   "source": [
    "2.1. write a code that asks the fullname of the user and returns their name in reverse order\n",
    "2.2. Then it should return only the first name from the given input, on condition that the user enters their lastname first and after space their firstname"
   ]
  },
  {
   "cell_type": "code",
   "execution_count": 1,
   "metadata": {},
   "outputs": [
    {
     "name": "stdout",
     "output_type": "stream",
     "text": [
      "kcalB eoJ\n"
     ]
    }
   ],
   "source": [
    "Fullname = input(\"Enter your fullname: \")\n",
    "print(Fullname[::-1])"
   ]
  },
  {
   "cell_type": "code",
   "execution_count": 4,
   "metadata": {},
   "outputs": [
    {
     "name": "stdout",
     "output_type": "stream",
     "text": [
      "Joe\n"
     ]
    }
   ],
   "source": [
    "Lastname = input('Enter your lastname: ')\n",
    "Firstname = input('Enter your firstname: ')\n",
    "print(Firstname)"
   ]
  },
  {
   "cell_type": "code",
   "execution_count": 8,
   "metadata": {},
   "outputs": [
    {
     "name": "stdout",
     "output_type": "stream",
     "text": [
      "Your first name is: Joe\n"
     ]
    }
   ],
   "source": [
    "Name = input('Enter your lastname then firstname \\'lastname firstname\\' format: ')\n",
    "parts = Name.split()\n",
    "\n",
    "if len(parts) == 2:\n",
    "    firstname = parts[1]\n",
    "    print(f'Your first name is: {firstname}')\n",
    "else:\n",
    "    print('Error. Enter your name in \\'lastname firstname\\' format')\n"
   ]
  },
  {
   "cell_type": "markdown",
   "metadata": {},
   "source": []
  },
  {
   "cell_type": "markdown",
   "metadata": {},
   "source": [
    "Test 1"
   ]
  },
  {
   "cell_type": "markdown",
   "metadata": {},
   "source": [
    "Q1. A string is a sequence of characters enclosed within either single quotes (') or double quotes (\").\n",
    "Strings can include letters, numbers, symbols, and spaces.\n",
    "\n",
    "Q2.  No\n",
    "\n",
    "Q3.  yes\n",
    "\n",
    "Q4.  true\n",
    "\n",
    "Q5.  Empty string\n",
    "\n",
    "Q6.  true\n"
   ]
  },
  {
   "cell_type": "code",
   "execution_count": 7,
   "metadata": {},
   "outputs": [
    {
     "name": "stdout",
     "output_type": "stream",
     "text": [
      "This is Amit's Blog\n"
     ]
    }
   ],
   "source": [
    "#Q7\n",
    "str = 'This is Amit\\'s Blog'\n",
    "print(str)"
   ]
  },
  {
   "cell_type": "markdown",
   "metadata": {},
   "source": [
    "Q8.  \n",
    "Welcome to my blog \n",
    "Welcome to my\n",
    "Blog\n",
    "\n",
    "Q9.\n",
    "Welcome     to my Blog\n",
    "Welcome to\n",
    "my    Blog\n",
    "\n",
    "Q10.\n",
    "Welcome to my\n",
    "blog.\n",
    "This is for \n",
    "Class X"
   ]
  },
  {
   "cell_type": "markdown",
   "metadata": {},
   "source": [
    "Test 2"
   ]
  },
  {
   "cell_type": "markdown",
   "metadata": {},
   "source": [
    "a)   hel\n",
    "\n",
    "b).  M\n",
    "     My\n",
    "     My \n",
    "     My B\n",
    "     My Bl\n",
    "     My Blo\n",
    "     My Blog\n",
    "\n",
    "c). y\n",
    "    BB\n",
    "    LLL\n",
    "    oooo\n",
    "    ggggg\n",
    "\n",
    "d). Mg\n",
    "\n",
    "e).  MyBlogBlog\n",
    " \n",
    "f).  MyMyMyBlog7\n",
    "\n",
    "g).  22\n",
    "     2222\n",
    "     222222\n",
    "\n",
    "h). A\n",
    "    A\n",
    "    A\n",
    "    A\n",
    "    A\n",
    "\n",
    "i).  <built-in method upper of str object at 0x00007FF8EB29DE40>\n",
    "\n",
    "j).  3\n",
    "     4\n",
    "    -1\n",
    "     9\n",
    "  "
   ]
  },
  {
   "cell_type": "markdown",
   "metadata": {},
   "source": []
  },
  {
   "cell_type": "markdown",
   "metadata": {},
   "source": [
    "Test 3"
   ]
  },
  {
   "cell_type": "code",
   "execution_count": 28,
   "metadata": {},
   "outputs": [
    {
     "name": "stdout",
     "output_type": "stream",
     "text": [
      " \n"
     ]
    }
   ],
   "source": [
    "#Q1\n",
    "str1 = ' '"
   ]
  },
  {
   "cell_type": "markdown",
   "metadata": {},
   "source": [
    "Q3.  0\n",
    "\n",
    "Q4.  -1\n",
    "\n",
    "Q5.   9\n",
    "\n",
    "Q6.   4\n",
    "\n",
    "Q7.  false\n",
    "\n",
    "Q8.  IndexError: string index out of range\n",
    "\n",
    "Q9.   g, o\n",
    "\n",
    "Q10. str1 = 'Hello World'\n"
   ]
  }
 ],
 "metadata": {
  "kernelspec": {
   "display_name": "Python 3",
   "language": "python",
   "name": "python3"
  },
  "language_info": {
   "codemirror_mode": {
    "name": "ipython",
    "version": 3
   },
   "file_extension": ".py",
   "mimetype": "text/x-python",
   "name": "python",
   "nbconvert_exporter": "python",
   "pygments_lexer": "ipython3",
   "version": "3.12.8"
  }
 },
 "nbformat": 4,
 "nbformat_minor": 2
}
