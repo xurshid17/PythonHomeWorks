{
 "cells": [
  {
   "cell_type": "code",
   "execution_count": 1,
   "metadata": {},
   "outputs": [],
   "source": [
    "import pandas as pd"
   ]
  },
  {
   "cell_type": "code",
   "execution_count": null,
   "metadata": {},
   "outputs": [
    {
     "data": {
      "text/html": [
       "<div>\n",
       "<style scoped>\n",
       "    .dataframe tbody tr th:only-of-type {\n",
       "        vertical-align: middle;\n",
       "    }\n",
       "\n",
       "    .dataframe tbody tr th {\n",
       "        vertical-align: top;\n",
       "    }\n",
       "\n",
       "    .dataframe thead th {\n",
       "        text-align: right;\n",
       "    }\n",
       "</style>\n",
       "<table border=\"1\" class=\"dataframe\">\n",
       "  <thead>\n",
       "    <tr style=\"text-align: right;\">\n",
       "      <th></th>\n",
       "      <th>BusinessEntityID</th>\n",
       "      <th>SalesYear</th>\n",
       "      <th>CurrentQuota</th>\n",
       "      <th>PreviousQuota</th>\n",
       "      <th>NextQuota</th>\n",
       "    </tr>\n",
       "  </thead>\n",
       "  <tbody>\n",
       "    <tr>\n",
       "      <th>0</th>\n",
       "      <td>275</td>\n",
       "      <td>2005</td>\n",
       "      <td>367000.0</td>\n",
       "      <td>NaN</td>\n",
       "      <td>556000.0</td>\n",
       "    </tr>\n",
       "    <tr>\n",
       "      <th>1</th>\n",
       "      <td>275</td>\n",
       "      <td>2005</td>\n",
       "      <td>556000.0</td>\n",
       "      <td>367000.0</td>\n",
       "      <td>502000.0</td>\n",
       "    </tr>\n",
       "    <tr>\n",
       "      <th>2</th>\n",
       "      <td>275</td>\n",
       "      <td>2006</td>\n",
       "      <td>502000.0</td>\n",
       "      <td>556000.0</td>\n",
       "      <td>550000.0</td>\n",
       "    </tr>\n",
       "    <tr>\n",
       "      <th>3</th>\n",
       "      <td>275</td>\n",
       "      <td>2006</td>\n",
       "      <td>550000.0</td>\n",
       "      <td>502000.0</td>\n",
       "      <td>1429000.0</td>\n",
       "    </tr>\n",
       "    <tr>\n",
       "      <th>4</th>\n",
       "      <td>275</td>\n",
       "      <td>2006</td>\n",
       "      <td>1429000.0</td>\n",
       "      <td>550000.0</td>\n",
       "      <td>1324000.0</td>\n",
       "    </tr>\n",
       "    <tr>\n",
       "      <th>5</th>\n",
       "      <td>275</td>\n",
       "      <td>2006</td>\n",
       "      <td>1324000.0</td>\n",
       "      <td>1429000.0</td>\n",
       "      <td>NaN</td>\n",
       "    </tr>\n",
       "  </tbody>\n",
       "</table>\n",
       "</div>"
      ],
      "text/plain": [
       "   BusinessEntityID  SalesYear  CurrentQuota  PreviousQuota  NextQuota\n",
       "0               275       2005      367000.0            NaN   556000.0\n",
       "1               275       2005      556000.0       367000.0   502000.0\n",
       "2               275       2006      502000.0       556000.0   550000.0\n",
       "3               275       2006      550000.0       502000.0  1429000.0\n",
       "4               275       2006     1429000.0       550000.0  1324000.0\n",
       "5               275       2006     1324000.0      1429000.0        NaN"
      ]
     },
     "execution_count": 4,
     "metadata": {},
     "output_type": "execute_result"
    }
   ],
   "source": [
    "#1 - #2\n",
    "Id = [275, 275, 275, 275, 275, 275]\n",
    "year = [2005, 2005, 2006, 2006, 2006, 2006]\n",
    "quota = [367000.00, 556000.00, 502000.00, 550000.00, 1429000.00, 1324000.00]\n",
    "\n",
    "lag = pd.DataFrame({\"BusinessEntityID\":Id, \"SalesYear\":year, \"CurrentQuota\": quota})\n",
    "\n",
    "#1\n",
    "lag['PreviousQuota'] = lag['CurrentQuota'].shift(1)\n",
    "\n",
    "\n",
    "#2\n",
    "lag['NextQuota'] = lag['CurrentQuota'].shift(-1)\n",
    "\n",
    "lag"
   ]
  },
  {
   "cell_type": "code",
   "execution_count": null,
   "metadata": {},
   "outputs": [],
   "source": []
  },
  {
   "cell_type": "code",
   "execution_count": null,
   "metadata": {},
   "outputs": [
    {
     "name": "stdout",
     "output_type": "stream",
     "text": [
      "   EmpID  EmpName  BirthDate\n",
      "2      3  Parveen 1977-05-07\n",
      "4      5   Ramesh 1983-05-09\n"
     ]
    }
   ],
   "source": [
    "#3\n",
    "ID = [1, 2, 3, 4, 5]\n",
    "Ename = ['Pawan', 'Zuzu', 'Parveen', 'Mahesh', 'Ramesh']\n",
    "Date = ['04-12-1983', '28-11-1986', '07-05-1977', '13-01-1983', '09-05-1983']\n",
    "\n",
    "bth = pd.DataFrame({\"EmpID\":ID, \"EmpName\": Ename, \"BirthDate\":Date})\n",
    "bth[\"BirthDate\"] = pd.to_datetime(bth[\"BirthDate\"], format='%d-%m-%Y')\n",
    "fil_bth = bth[(bth['BirthDate'].dt.month == 5) & (bth['BirthDate'].dt.day >= 7) & (bth['BirthDate'].dt.day >= 7)]\n",
    "print(fil_bth)"
   ]
  },
  {
   "cell_type": "code",
   "execution_count": null,
   "metadata": {},
   "outputs": [],
   "source": []
  },
  {
   "cell_type": "code",
   "execution_count": null,
   "metadata": {},
   "outputs": [
    {
     "name": "stdout",
     "output_type": "stream",
     "text": [
      "  MName    AName  Roles\n",
      "2     B  Amitabh  Actor\n",
      "3     B    Vinod  Actor\n"
     ]
    }
   ],
   "source": [
    "#4\n",
    "M = ['A', 'A', 'B', 'B', 'D', 'E']\n",
    "A = ['Amitabh', 'Vinod', 'Amitabh', 'Vinod', 'Amitabh','Vinod']\n",
    "R = ['Actor', 'Villain', 'Actor', 'Actor', 'Actor', 'Actor']\n",
    "\n",
    "Actor = pd.DataFrame({\"MName\":M, \"AName\":A, \"Roles\":R})\n",
    "same = Actor.groupby(['MName', 'Roles']).filter(lambda x: len(x) > 1 and x['AName'].nunique() > 1)\n",
    "\n",
    "print(same)"
   ]
  },
  {
   "cell_type": "code",
   "execution_count": 22,
   "metadata": {},
   "outputs": [],
   "source": [
    "import numpy as np"
   ]
  },
  {
   "cell_type": "code",
   "execution_count": 35,
   "metadata": {},
   "outputs": [
    {
     "data": {
      "text/html": [
       "<div>\n",
       "<style scoped>\n",
       "    .dataframe tbody tr th:only-of-type {\n",
       "        vertical-align: middle;\n",
       "    }\n",
       "\n",
       "    .dataframe tbody tr th {\n",
       "        vertical-align: top;\n",
       "    }\n",
       "\n",
       "    .dataframe thead th {\n",
       "        text-align: right;\n",
       "    }\n",
       "</style>\n",
       "<table border=\"1\" class=\"dataframe\">\n",
       "  <thead>\n",
       "    <tr style=\"text-align: right;\">\n",
       "      <th></th>\n",
       "      <th>ID</th>\n",
       "      <th>Name</th>\n",
       "      <th>Typed</th>\n",
       "    </tr>\n",
       "  </thead>\n",
       "  <tbody>\n",
       "    <tr>\n",
       "      <th>0</th>\n",
       "      <td>1</td>\n",
       "      <td>P</td>\n",
       "      <td>NaN</td>\n",
       "    </tr>\n",
       "    <tr>\n",
       "      <th>1</th>\n",
       "      <td>1</td>\n",
       "      <td>NaN</td>\n",
       "      <td>Q</td>\n",
       "    </tr>\n",
       "  </tbody>\n",
       "</table>\n",
       "</div>"
      ],
      "text/plain": [
       "   ID Name Typed\n",
       "0   1    P   NaN\n",
       "1   1  NaN     Q"
      ]
     },
     "execution_count": 35,
     "metadata": {},
     "output_type": "execute_result"
    }
   ],
   "source": [
    "#5\n",
    "id = [1, 1]\n",
    "name = ['P', np.nan]\n",
    "typ = [np.nan, 'Q']\n",
    "\n",
    "PQ = pd.DataFrame({\"ID\":id, \"Name\":name, \"Typed\":typ})\n",
    "PQ\n"
   ]
  },
  {
   "cell_type": "code",
   "execution_count": 43,
   "metadata": {},
   "outputs": [
    {
     "name": "stdout",
     "output_type": "stream",
     "text": [
      "   ID Name Typed\n",
      "0   1    P     Q\n"
     ]
    }
   ],
   "source": [
    "n = PQ['Name'].dropna() \n",
    "t = PQ['Typed'].dropna()\n",
    "i = PQ['ID'].dropna()\n",
    "\n",
    "result = pd.DataFrame({\"ID\":i.reset_index(drop=True), \"Name\":n.reset_index(drop=True), \"Typed\":t.reset_index(drop=True)})\n",
    "print(result.head(1))\n",
    "\n"
   ]
  }
 ],
 "metadata": {
  "kernelspec": {
   "display_name": "Python 3",
   "language": "python",
   "name": "python3"
  },
  "language_info": {
   "codemirror_mode": {
    "name": "ipython",
    "version": 3
   },
   "file_extension": ".py",
   "mimetype": "text/x-python",
   "name": "python",
   "nbconvert_exporter": "python",
   "pygments_lexer": "ipython3",
   "version": "3.12.8"
  }
 },
 "nbformat": 4,
 "nbformat_minor": 2
}
