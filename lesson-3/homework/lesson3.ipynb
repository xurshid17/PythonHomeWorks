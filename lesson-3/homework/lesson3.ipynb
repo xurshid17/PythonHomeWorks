{
 "cells": [
  {
   "cell_type": "markdown",
   "metadata": {},
   "source": [
    "Given an integer,number , perform the following conditional actions:\n",
    "\n",
    "If number is odd, print Weird\n",
    "If number is even and in the inclusive range of 2 to 5, print Not Weird\n",
    "If number is even and in the inclusive range of 6 to 20, print Weird\n",
    "If number is even and greater than 20, print Not Weird"
   ]
  },
  {
   "cell_type": "code",
   "execution_count": 6,
   "metadata": {},
   "outputs": [
    {
     "name": "stdout",
     "output_type": "stream",
     "text": [
      "Weird\n"
     ]
    }
   ],
   "source": [
    "number = int(input('Enter the number: '))\n",
    "\n",
    "if 1<=number<=100:\n",
    "    if number % 2 ==0 and 2<=number<=5:\n",
    "       print('Not weird')\n",
    "    elif number % 2 ==0 and 6<=number<=20:\n",
    "       print('Weird')\n",
    "    elif number % 2 ==0 and number>20:\n",
    "       print('Not Weird')\n",
    "    else:\n",
    "       print('Weird')\n",
    "else:\n",
    "   print('Please enter a number between 1 and 100')"
   ]
  }
 ],
 "metadata": {
  "kernelspec": {
   "display_name": "Python 3",
   "language": "python",
   "name": "python3"
  },
  "language_info": {
   "codemirror_mode": {
    "name": "ipython",
    "version": 3
   },
   "file_extension": ".py",
   "mimetype": "text/x-python",
   "name": "python",
   "nbconvert_exporter": "python",
   "pygments_lexer": "ipython3",
   "version": "3.12.8"
  }
 },
 "nbformat": 4,
 "nbformat_minor": 2
}
