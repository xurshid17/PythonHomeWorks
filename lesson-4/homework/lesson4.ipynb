{
 "cells": [
  {
   "cell_type": "code",
   "execution_count": null,
   "metadata": {},
   "outputs": [],
   "source": [
    "#1 Create a list named food with two elements, \"rice\" and \"beans\".\n",
    "#2 Append the string \"broccoli\" to food using appendo.\n",
    "#3 Add the strings \"bread\" and \"pizza\" to food using .extend.\n",
    "#4 Print the first two items in the food list using print and slice no tation.\n",
    "#5 Print the last item in food using print and index notation.\n",
    "#6 Create a list called breakfast from the string \"eggs, fruit, orangejuice\" using the string split method. \n",
    "#7. Verify that breakfast has three items using len).\n",
    "#8. Create a new list called lengths using a list comprehension that con tains the lengths of each string in the breakfast list"
   ]
  },
  {
   "cell_type": "code",
   "execution_count": 1,
   "metadata": {},
   "outputs": [
    {
     "name": "stdout",
     "output_type": "stream",
     "text": [
      "['rice', 'beans']\n"
     ]
    }
   ],
   "source": [
    "#1\n",
    "food = ['rice', 'beans']\n",
    "print(food)"
   ]
  },
  {
   "cell_type": "code",
   "execution_count": 2,
   "metadata": {},
   "outputs": [],
   "source": [
    "#2\n",
    "food.append('broccoli')"
   ]
  },
  {
   "cell_type": "code",
   "execution_count": 3,
   "metadata": {},
   "outputs": [
    {
     "name": "stdout",
     "output_type": "stream",
     "text": [
      "['rice', 'beans', 'broccoli']\n"
     ]
    }
   ],
   "source": [
    "print(food)"
   ]
  },
  {
   "cell_type": "code",
   "execution_count": 4,
   "metadata": {},
   "outputs": [
    {
     "name": "stdout",
     "output_type": "stream",
     "text": [
      "['rice', 'beans', 'broccoli', 'bread', 'pizza']\n"
     ]
    }
   ],
   "source": [
    "#3\n",
    "new_foods = ['bread', 'pizza']\n",
    "food.extend(new_foods)\n",
    "print(food)"
   ]
  },
  {
   "cell_type": "code",
   "execution_count": 5,
   "metadata": {},
   "outputs": [
    {
     "name": "stdout",
     "output_type": "stream",
     "text": [
      "['rice', 'beans']\n"
     ]
    }
   ],
   "source": [
    "\n",
    "#4\n",
    "print(food[:2])"
   ]
  },
  {
   "cell_type": "code",
   "execution_count": 6,
   "metadata": {},
   "outputs": [
    {
     "name": "stdout",
     "output_type": "stream",
     "text": [
      "pizza\n"
     ]
    }
   ],
   "source": [
    "#5\n",
    "print(food[-1])"
   ]
  },
  {
   "cell_type": "code",
   "execution_count": 7,
   "metadata": {},
   "outputs": [
    {
     "name": "stdout",
     "output_type": "stream",
     "text": [
      "['eggs', 'fruit', 'orange', 'juice']\n"
     ]
    }
   ],
   "source": [
    "#6\n",
    "breakfast1 = \"eggs fruit orange juice\"\n",
    "breakfast = breakfast1.split()\n",
    "print(breakfast)"
   ]
  },
  {
   "cell_type": "code",
   "execution_count": 8,
   "metadata": {},
   "outputs": [
    {
     "name": "stdout",
     "output_type": "stream",
     "text": [
      "['eggs', 'fruit', 'orange']\n"
     ]
    }
   ],
   "source": [
    "#7\n",
    "print(breakfast[:len(breakfast)-1])"
   ]
  },
  {
   "cell_type": "code",
   "execution_count": 10,
   "metadata": {},
   "outputs": [
    {
     "name": "stdout",
     "output_type": "stream",
     "text": [
      "['eggs', 'fruit', 'orange', 'juice']\n",
      "[4, 5, 6, 5]\n"
     ]
    }
   ],
   "source": [
    "print(breakfast)\n",
    "\n",
    "lengths = [len(a) for a in breakfast]\n",
    "print(lengths)"
   ]
  }
 ],
 "metadata": {
  "kernelspec": {
   "display_name": "Python 3",
   "language": "python",
   "name": "python3"
  },
  "language_info": {
   "codemirror_mode": {
    "name": "ipython",
    "version": 3
   },
   "file_extension": ".py",
   "mimetype": "text/x-python",
   "name": "python",
   "nbconvert_exporter": "python",
   "pygments_lexer": "ipython3",
   "version": "3.12.8"
  }
 },
 "nbformat": 4,
 "nbformat_minor": 2
}
