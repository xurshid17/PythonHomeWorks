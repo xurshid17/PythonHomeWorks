{
 "cells": [
  {
   "cell_type": "code",
   "execution_count": 7,
   "metadata": {},
   "outputs": [
    {
     "name": "stdout",
     "output_type": "stream",
     "text": [
      "['Joe', 'Beck']\n"
     ]
    }
   ],
   "source": [
    "# 1. Given a list of tuples where each tuple contains a name and a score, \n",
    "# create a new list that contains the names of students who scored above 80.\n",
    "# Example input: [('Mike', 75), ('Joe', 90), ('Beck', 85)]\n",
    "# Expected output: ['Joe', 'Beck']\n",
    "\n",
    "namescore = [('Mike',75), ('Joe', 90), ('Beck', 85)]\n",
    "\n",
    "name_above80 = [name for name, score in namescore if score>80]\n",
    "\n",
    "print(name_above80)"
   ]
  },
  {
   "cell_type": "code",
   "execution_count": 2,
   "metadata": {},
   "outputs": [
    {
     "name": "stdout",
     "output_type": "stream",
     "text": [
      "[5, 6, 7]\n"
     ]
    }
   ],
   "source": [
    "# 2. Given a tuple with several lists inside it, \n",
    "# write a function to return the list with the maximum sum of its elements.\n",
    "# Example input: ([1, 2], [3, 4], [5, 6, 7])\n",
    "# Expected output: [5, 6, 7]\n",
    "\n",
    "def max_sum_numbers(*args):\n",
    "    return max(args, key=sum)\n",
    "\n",
    "numbers = max_sum_numbers([1, 2], [3, 4], [5, 6, 7])\n",
    "\n",
    "print(numbers)\n"
   ]
  },
  {
   "cell_type": "code",
   "execution_count": 4,
   "metadata": {},
   "outputs": [
    {
     "name": "stdout",
     "output_type": "stream",
     "text": [
      "['Joe', 'Beck']\n"
     ]
    }
   ],
   "source": [
    "# 3. Given a list of tuples with names and ages, \n",
    "# return a list of names where the age is greater than 30 and less than 50.\n",
    "# Example input: [('Mike', 25), ('Joe', 31), ('Beck', 40)]\n",
    "# Expected output: ['Joe', 'Beck']\n",
    "\n",
    "namescore = [('Mike',25), ('Joe', 31), ('Beck', 40)]\n",
    "\n",
    "name_above = [name for name, score in namescore if 30<score<50]\n",
    "\n",
    "print(name_above)\n"
   ]
  },
  {
   "cell_type": "code",
   "execution_count": 5,
   "metadata": {},
   "outputs": [
    {
     "name": "stdout",
     "output_type": "stream",
     "text": [
      "[(1, 'odd'), (2, 'even'), (3, 'odd'), (4, 'even')]\n"
     ]
    }
   ],
   "source": [
    "# 4. Given a list of integers, \n",
    "# write a function to return a list of tuples where the first element is the number \n",
    "# and the second is 'Even' or 'Odd' depending on whether the number is even or odd.\n",
    "# Example input: [1, 2, 3, 4]\n",
    "# Expected output: [(1, 'Odd'), (2, 'Even'), (3, 'Odd'), (4, 'Even')]\n",
    "\n",
    "numberslist = [1,2,3,4]\n",
    "\n",
    "def number_odd_even(nums):\n",
    "    result = []\n",
    "    for num in nums:\n",
    "        if num % 2 == 0:\n",
    "            result.append((num,'even'))\n",
    "        else:\n",
    "            result.append((num, 'odd'))\n",
    "    return(result)\n",
    "\n",
    "result = number_odd_even(numberslist)\n",
    "\n",
    "print(result)"
   ]
  },
  {
   "cell_type": "code",
   "execution_count": 9,
   "metadata": {},
   "outputs": [
    {
     "name": "stdout",
     "output_type": "stream",
     "text": [
      "('cherry', 6)\n"
     ]
    }
   ],
   "source": [
    "# 5. Given a list of tuples containing a string and an integer, \n",
    "# write a function that returns a tuple of the string with the largest length \n",
    "# and its corresponding integer. If two strings have the same length, \n",
    "# choose the one with the larger integer.\n",
    "# Example input: [('apple', 5), ('banana', 4), ('cherry', 6)]\n",
    "# Expected output: ('apple', 5)\n",
    "\n",
    "fruits = [('apple', 5), ('banana', 4), ('cherry', 6)]\n",
    "\n",
    "def fruits_len(fruit):\n",
    "    max_tup = ('',0)\n",
    "    for name, num in fruit:\n",
    "        if len(name) > len(max_tup[0]) or len(name) == len(max_tup[0]) and num > max_tup[1]:\n",
    "           max_tup = (name,num)\n",
    "\n",
    "    return max_tup\n",
    "\n",
    "\n",
    "result = fruits_len(fruits)\n",
    "\n",
    "print(result)"
   ]
  },
  {
   "cell_type": "code",
   "execution_count": null,
   "metadata": {},
   "outputs": [],
   "source": [
    "# 6. Given a list of tuples where each tuple contains a date (as a string in 'YYYY-MM-DD' format) and an event, \n",
    "# return the list of events in the order of the most recent dates.\n",
    "# Example input: [('2024-12-01', 'Event A'), ('2025-01-01', 'Event B')]\n",
    "# Expected output: [('2025-01-01', 'Event B'), ('2024-12-01', 'Event A')]"
   ]
  },
  {
   "cell_type": "code",
   "execution_count": 19,
   "metadata": {},
   "outputs": [
    {
     "name": "stdout",
     "output_type": "stream",
     "text": [
      "('Joe', 90)\n"
     ]
    }
   ],
   "source": [
    "# 7. Given a list of tuples where each tuple contains a name and a score, \n",
    "# return the highest score and the corresponding name.\n",
    "# Example input: [('Mike', 75), ('Joe', 90), ('Beck', 85)]\n",
    "# Expected output: ('Joe', 90)\n",
    "namescore = [('Mike', 75), ('Joe', 90), ('Beck', 85)]\n",
    "\n",
    "def max_scores(scores):\n",
    "    max_score = ('',0)\n",
    "    for name, score in scores:\n",
    "        if score > max_score[1]:\n",
    "            max_score = (name,score)\n",
    "\n",
    "    return max_score\n",
    "\n",
    "result = max_scores(namescore)\n",
    "print(result)\n"
   ]
  },
  {
   "cell_type": "code",
   "execution_count": 21,
   "metadata": {},
   "outputs": [
    {
     "name": "stdout",
     "output_type": "stream",
     "text": [
      "['product2']\n"
     ]
    }
   ],
   "source": [
    "# 8. Given a list of tuples where each tuple contains a product name and its price, \n",
    "# write a function to return a list of products whose price is between 50 and 100.\n",
    "# Example input: [('product1', 45), ('product2', 60), ('product3', 120)]\n",
    "# Expected output: [('product2', 60)]\n",
    "\n",
    "products = [('product1', 45), ('product2', 60), ('product3', 120)]\n",
    "between_product = [name for name, price in products if 50<=price<=100]\n",
    "print(between_product)\n"
   ]
  },
  {
   "cell_type": "code",
   "execution_count": 23,
   "metadata": {},
   "outputs": [
    {
     "name": "stdout",
     "output_type": "stream",
     "text": [
      "('Beck', 40)\n"
     ]
    }
   ],
   "source": [
    "\n",
    "# 9. Given a list of tuples where each tuple contains a person's name and their age, \n",
    "# return the name of the oldest person in the list.\n",
    "# Example input: [('Mike', 25), ('Joe', 31), ('Beck', 40)]\n",
    "# Expected output: 'Beck'\n",
    "\n",
    "persons = [('Mike', 25), ('Joe', 31), ('Beck', 40)]\n",
    "\n",
    "def old_person(per):\n",
    "    person = ('', 0)\n",
    "    for name, age in per:\n",
    "        if age > person[1]:\n",
    "            person = (name, age)\n",
    "    \n",
    "    return person\n",
    "\n",
    "result = old_person(persons)\n",
    "print(result)"
   ]
  },
  {
   "cell_type": "code",
   "execution_count": null,
   "metadata": {},
   "outputs": [],
   "source": [
    "# 10. Given a list of tuples containing a student's name and their grades in multiple subjects, \n",
    "# return the names of students who have an average grade greater than 80.\n",
    "# Example input: [('Mike', [85, 75, 90]), ('Joe', [70, 80, 60])]\n",
    "# Expected output: ['Mike']"
   ]
  }
 ],
 "metadata": {
  "kernelspec": {
   "display_name": "Python 3",
   "language": "python",
   "name": "python3"
  },
  "language_info": {
   "codemirror_mode": {
    "name": "ipython",
    "version": 3
   },
   "file_extension": ".py",
   "mimetype": "text/x-python",
   "name": "python",
   "nbconvert_exporter": "python",
   "pygments_lexer": "ipython3",
   "version": "3.12.8"
  }
 },
 "nbformat": 4,
 "nbformat_minor": 2
}
