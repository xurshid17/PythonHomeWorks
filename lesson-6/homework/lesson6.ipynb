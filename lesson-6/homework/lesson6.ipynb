{
 "cells": [
  {
   "cell_type": "code",
   "execution_count": null,
   "metadata": {},
   "outputs": [],
   "source": [
    "# 2. return uncommon elements of lists. (order of elements does not matter)\n",
    "# input: list1 = [1, 1, 2], list2 = [2, 3, 4]\n",
    "# output: [1, 1, 3, 4]\n",
    "# input: list1 = [1, 2, 3], list2 = [4, 5, 6]\n",
    "# output: [1, 2, 3, 4, 5, 6]\n",
    "# input: list1 = [1, 1, 2, 3, 4, 2], list2 = [1, 3, 4, 5]\n",
    "# output: [2, 2, 5]\n"
   ]
  },
  {
   "cell_type": "code",
   "execution_count": 52,
   "metadata": {},
   "outputs": [
    {
     "name": "stdout",
     "output_type": "stream",
     "text": [
      "[1, 3, 4]\n"
     ]
    }
   ],
   "source": [
    "\n",
    "\n",
    "l1 = [1, 1, 2]\n",
    "l2 = [2, 3, 4]\n",
    "\n",
    "list1 = set(l1)\n",
    "list2 = set(l2)\n",
    "\n",
    "print(list(list1.difference(list2)) + list(list2.difference(list1)))\n"
   ]
  },
  {
   "cell_type": "code",
   "execution_count": 55,
   "metadata": {},
   "outputs": [
    {
     "name": "stdout",
     "output_type": "stream",
     "text": [
      "[1, 2, 3, 4, 5, 6]\n"
     ]
    }
   ],
   "source": [
    "l1 = [1, 2, 3]\n",
    "l2 = [4, 5, 6]\n",
    "\n",
    "list1 = set(l1)\n",
    "list2 = set(l2)\n",
    "\n",
    "print(list(list1.symmetric_difference(list2)))"
   ]
  },
  {
   "cell_type": "code",
   "execution_count": 56,
   "metadata": {},
   "outputs": [
    {
     "name": "stdout",
     "output_type": "stream",
     "text": [
      "[2, 5]\n"
     ]
    }
   ],
   "source": [
    "l1 = [1, 1, 2, 3, 4, 2]\n",
    "l2 = [1, 3, 4, 5]\n",
    "\n",
    "list1 = set(l1)\n",
    "list2 = set(l2)\n",
    "\n",
    "print(list(list1.symmetric_difference(list2)))"
   ]
  },
  {
   "cell_type": "code",
   "execution_count": 11,
   "metadata": {},
   "outputs": [],
   "source": [
    "# 3. txt nomli string saqlovchi o'zgaruvchi berilgan.\n",
    "# txt dagi har uchinchi belgidan keyin pastki chiziqcha (underscore) qo'yilsin.\n",
    "# Agar belgi unli harf yoki orqasidan ostki chiziqcha qo'yilgan harf bo'lsa, ostki chiziqcha keyingi harfdan keyin qo'yilsin. Agar belgi satrdagi ohirgi belgi bo'lsa chiziqcha qo yilmasin.\n",
    "# input: hello output: hel_lo\n",
    "# input: assalom output: ass_alom\n",
    "# input: abcabcdabcdeabcdefabcdefg\n",
    "# output: abc_abcd_abcdeab_cdef\n",
    "# _abcdefg"
   ]
  },
  {
   "cell_type": "code",
   "execution_count": 9,
   "metadata": {},
   "outputs": [
    {
     "name": "stdout",
     "output_type": "stream",
     "text": [
      "hel_lo\n",
      "ass_alo_m\n",
      "abc_abc_dab_cde_abc_def_abc_def_g\n"
     ]
    }
   ],
   "source": [
    "def add_underscores(txt):\n",
    "    result = [] \n",
    "    count = 0  \n",
    "\n",
    "    for i in range(len(txt)):\n",
    "        result.append(txt[i])  \n",
    "    \n",
    "        if (i + 1) % 3 == 0 and i != len(txt) - 1:\n",
    "            result.append('_')\n",
    "    \n",
    "    return ''.join(result)\n",
    "\n",
    "\n",
    "print(add_underscores(\"hello\"))  \n",
    "print(add_underscores(\"assalom\")) \n",
    "print(add_underscores(\"abcabcdabcdeabcdefabcdefg\")) "
   ]
  }
 ],
 "metadata": {
  "kernelspec": {
   "display_name": "Python 3",
   "language": "python",
   "name": "python3"
  },
  "language_info": {
   "codemirror_mode": {
    "name": "ipython",
    "version": 3
   },
   "file_extension": ".py",
   "mimetype": "text/x-python",
   "name": "python",
   "nbconvert_exporter": "python",
   "pygments_lexer": "ipython3",
   "version": "3.12.8"
  }
 },
 "nbformat": 4,
 "nbformat_minor": 2
}
