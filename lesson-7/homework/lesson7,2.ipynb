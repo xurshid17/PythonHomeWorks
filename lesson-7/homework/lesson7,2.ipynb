{
 "cells": [
  {
   "cell_type": "code",
   "execution_count": 1,
   "metadata": {},
   "outputs": [
    {
     "name": "stdout",
     "output_type": "stream",
     "text": [
      "25\n",
      "48\n"
     ]
    }
   ],
   "source": [
    "#1. Write a Python program to create a lambda function that adds 15 to a given number passed in as an argument, also create a lambda function that multiplies argument x with argument y and prints the result.\n",
    "\n",
    "r = lambda a: a + 15\n",
    "print(r(10))\n",
    "\n",
    "r =lambda x, y: x * y \n",
    "print(r(12,4))"
   ]
  },
  {
   "cell_type": "code",
   "execution_count": 2,
   "metadata": {},
   "outputs": [
    {
     "name": "stdout",
     "output_type": "stream",
     "text": [
      "45\n"
     ]
    }
   ],
   "source": [
    "#2. Write a Python program to create a function that takes one argument, and that argument will be multiplied with an unknown given number.\n",
    "\n",
    "r = lambda a: a * 15\n",
    "\n",
    "print(r(3))\n"
   ]
  },
  {
   "cell_type": "code",
   "execution_count": 3,
   "metadata": {},
   "outputs": [
    {
     "name": "stdout",
     "output_type": "stream",
     "text": [
      "[('Social sciences', 82), ('English', 88), ('Science', 90), ('Maths', 97)]\n"
     ]
    }
   ],
   "source": [
    "#3. Write a Python program to sort a list of tuples using Lambda.\n",
    "#Original list of tuples:\n",
    "# [('English', 88), ('Science', 90), ('Maths', 97), ('Social sciences', 82)]\n",
    "# #Sorting the List of Tuples:\n",
    "# [('Social sciences', 82), ('English', 88), ('Science', 90), ('Maths', 97)]\n",
    "\n",
    "\n",
    "les = [('English', 88), ('Science', 90), ('Maths', 97), ('Social sciences', 82)]\n",
    "\n",
    "sorted_les = sorted(les, key=lambda x: x[1])\n",
    "\n",
    "print(sorted_les)\n"
   ]
  },
  {
   "cell_type": "code",
   "execution_count": 4,
   "metadata": {},
   "outputs": [
    {
     "name": "stdout",
     "output_type": "stream",
     "text": [
      "[{'make': 'Nokia', 'model': 216, 'color': 'Black'}, {'make': 'Samsung', 'model': 7, 'color': 'Blue'}, {'make': 'Mi Max', 'model': '2', 'color': 'Gold'}]\n"
     ]
    }
   ],
   "source": [
    "#4. Write a Python program to sort a list of dictionaries using Lambda.\n",
    "#riginal list of dictionaries :\n",
    "# [{'make': 'Nokia', 'model': 216, 'color': 'Black'}, {'make': 'Mi Max', 'model': '2', 'color': 'Gold'}, {'make': 'Samsung', 'model': 7, 'color': 'Blue'}]\n",
    "#Sorting the List of dictionaries :\n",
    "#[{'make': 'Nokia', 'model': 216, 'color': 'Black'}, {'make': 'Samsung', 'model': 7, 'color': 'Blue'}, {'make': 'Mi Max', 'model': '2', 'color': 'Gold'}]\n",
    "\n",
    "tel = [{'make': 'Nokia', 'model': 216, 'color': 'Black'}, {'make': 'Mi Max', 'model': '2', 'color': 'Gold'}, {'make': 'Samsung', 'model': 7, 'color': 'Blue'}]\n",
    "\n",
    "sorted_tel = sorted(tel, key=lambda x: x['color'])\n",
    "\n",
    "print(sorted_tel)\n",
    "\n",
    "\n"
   ]
  },
  {
   "cell_type": "code",
   "execution_count": 7,
   "metadata": {},
   "outputs": [
    {
     "name": "stdout",
     "output_type": "stream",
     "text": [
      "[1, 3, 5, 7, 9]\n"
     ]
    }
   ],
   "source": [
    "5.# Write a Python program to filter a list of integers using Lambda.\n",
    "#Original list of integers:\n",
    "#[1, 2, 3, 4, 5, 6, 7, 8, 9, 10]\n",
    "#Even numbers from the said list:\n",
    "#[2, 4, 6, 8, 10]\n",
    "#Odd numbers from the said list:\n",
    "#[1, 3, 5, 7, 9]\n",
    "\n",
    "nums = [1, 2, 3, 4, 5, 6, 7, 8, 9, 10]\n",
    "\n",
    "filter_nums = list(filter(lambda x: x % 2 != 0, nums))\n",
    "\n",
    "print(filter_nums)"
   ]
  },
  {
   "cell_type": "code",
   "execution_count": 10,
   "metadata": {},
   "outputs": [
    {
     "name": "stdout",
     "output_type": "stream",
     "text": [
      "[1, 4, 9, 16, 25, 36, 49, 64, 81, 100]\n",
      "[1, 8, 27, 64, 125, 216, 343, 512, 729, 1000]\n"
     ]
    }
   ],
   "source": [
    "# 6. Write a Python program to square and cube every number in a given list of integers using Lambda.\n",
    "# Original list of integers:\n",
    "# [1, 2, 3, 4, 5, 6, 7, 8, 9, 10]\n",
    "# Square every number of the said list:\n",
    "# [1, 4, 9, 16, 25, 36, 49, 64, 81, 100]\n",
    "# Cube every number of the said list:\n",
    "# [1, 8, 27, 64, 125, 216, 343, 512, 729, 1000]\n",
    "\n",
    "numbers = [1, 2, 3, 4, 5, 6, 7, 8, 9, 10]\n",
    "\n",
    "square = list(map(lambda x: x ** 2, numbers))\n",
    "print(square)\n",
    "\n",
    "cube = list(map(lambda x: x ** 3, numbers))\n",
    "print(cube)"
   ]
  },
  {
   "cell_type": "code",
   "execution_count": 12,
   "metadata": {},
   "outputs": [
    {
     "name": "stdout",
     "output_type": "stream",
     "text": [
      "True\n",
      "False\n"
     ]
    }
   ],
   "source": [
    "# 7. Write a Python program to find if a given string starts with a given character using Lambda.\n",
    "# Sample Output:\n",
    "# True\n",
    "# False\n",
    "\n",
    "starts_with = lambda x: True if x.startswith('P') else False\n",
    "\n",
    "print(starts_with('Python'))\n",
    "print(starts_with('String'))\n",
    "\n",
    "\n"
   ]
  },
  {
   "cell_type": "code",
   "execution_count": 17,
   "metadata": {},
   "outputs": [
    {
     "name": "stdout",
     "output_type": "stream",
     "text": [
      "2025-01-18 12:51:31.319767\n",
      "2025\n",
      "1\n",
      "18\n",
      "12:51:31.319767\n"
     ]
    }
   ],
   "source": [
    "# 8. Write a Python program to extract year, month, date and time using Lambda.\n",
    "# Sample Output:\n",
    "# 2020-01-15 09:03:32.744178\n",
    "# 2020\n",
    "# 1\n",
    "# 15\n",
    "# 09:03:32.744178\n",
    "import datetime\n",
    "\n",
    "now = datetime.datetime.now()\n",
    "print(now)\n",
    "\n",
    "year = lambda x: x.year\n",
    "print(year(now))\n",
    "month = lambda x: x.month\n",
    "print(month(now))\n",
    "day = lambda x: x.day\n",
    "print(day(now))\n",
    "t = lambda x: x.time()\n",
    "print(t(now))\n",
    "\n"
   ]
  },
  {
   "cell_type": "code",
   "execution_count": 23,
   "metadata": {},
   "outputs": [
    {
     "name": "stdout",
     "output_type": "stream",
     "text": [
      "True\n",
      "True\n"
     ]
    }
   ],
   "source": [
    "#9. Write a Python program to check whether a given string is a number or not using Lambda.\n",
    "\n",
    "str1 = lambda s: s.isdigit()\n",
    "\n",
    "print(str1('564654'))\n",
    "\n",
    "str2 = lambda s: str1(s[1:]) if s[0] == '-' else str1(s)\n",
    "print(str2('-654654'))"
   ]
  },
  {
   "cell_type": "code",
   "execution_count": 27,
   "metadata": {},
   "outputs": [
    {
     "name": "stdout",
     "output_type": "stream",
     "text": [
      "[0, 1]\n",
      "[0, 1, 1, 2, 3]\n",
      "[0, 1, 1, 2, 3, 5]\n",
      "[0, 1, 1, 2, 3, 5, 8, 13, 21]\n"
     ]
    }
   ],
   "source": [
    "# 10. Write a Python program to create Fibonacci series up to n using Lambda.\n",
    "# Fibonacci series upto 2:\n",
    "# [0, 1]\n",
    "# Fibonacci series upto 5:\n",
    "# [0, 1, 1, 2, 3]\n",
    "# Fibonacci series upto 6:\n",
    "# [0, 1, 1, 2, 3, 5]\n",
    "# Fibonacci series upto 9:\n",
    "# [0, 1, 1, 2, 3, 5, 8, 13, 21]\n",
    "\n",
    "from functools import reduce\n",
    "\n",
    "fib_series = lambda n: reduce(lambda x, _: x + [x[-1] + x[-2]], range(n -2), [0, 1])\n",
    "\n",
    "print(fib_series(2))\n",
    "\n",
    "print(fib_series(5))\n",
    "\n",
    "print(fib_series(6))\n",
    "\n",
    "print(fib_series(9))"
   ]
  }
 ],
 "metadata": {
  "kernelspec": {
   "display_name": "Python 3",
   "language": "python",
   "name": "python3"
  },
  "language_info": {
   "codemirror_mode": {
    "name": "ipython",
    "version": 3
   },
   "file_extension": ".py",
   "mimetype": "text/x-python",
   "name": "python",
   "nbconvert_exporter": "python",
   "pygments_lexer": "ipython3",
   "version": "3.12.8"
  }
 },
 "nbformat": 4,
 "nbformat_minor": 2
}
