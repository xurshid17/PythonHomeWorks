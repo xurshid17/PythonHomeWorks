{
 "cells": [
  {
   "cell_type": "code",
   "execution_count": 11,
   "metadata": {},
   "outputs": [
    {
     "name": "stdout",
     "output_type": "stream",
     "text": [
      "8\n"
     ]
    }
   ],
   "source": [
    "#1. Write a Python function to find the maximum of three numbers.\n",
    "\n",
    "def max_numbers(a,b,c):\n",
    "    if a > b and a > c:\n",
    "        print(a)\n",
    "    elif b > a and b > c:\n",
    "        print(b)\n",
    "    elif c > a and c > b:\n",
    "        print(c)\n",
    "    elif a == b or a == c:\n",
    "        print(a)\n",
    "    else:\n",
    "        print(b)\n",
    "\n",
    "max_numbers(1,8,-9)   "
   ]
  },
  {
   "cell_type": "code",
   "execution_count": 18,
   "metadata": {},
   "outputs": [
    {
     "data": {
      "text/plain": [
       "20"
      ]
     },
     "execution_count": 18,
     "metadata": {},
     "output_type": "execute_result"
    }
   ],
   "source": [
    "#2. Write a Python function to sum all the numbers in a list.\n",
    "#Sample \n",
    "listn = [8, 2, 3, 0, 7]\n",
    "\n",
    "def sum_num(nums):\n",
    "    total = 0\n",
    "    for x in nums:\n",
    "        total = total + x\n",
    "    return total\n",
    "\n",
    "sum_num(listn)\n"
   ]
  },
  {
   "cell_type": "code",
   "execution_count": 20,
   "metadata": {},
   "outputs": [
    {
     "data": {
      "text/plain": [
       "-336"
      ]
     },
     "execution_count": 20,
     "metadata": {},
     "output_type": "execute_result"
    }
   ],
   "source": [
    "#3. Write a Python function to multiply all the numbers in a list.\n",
    "#Sample \n",
    "listn = [8, 2, 3, -1, 7]\n",
    "\n",
    "def multiply(numb):\n",
    "    total = 1\n",
    "    for x in numb:\n",
    "        total = total * x\n",
    "    return total\n",
    "\n",
    "multiply(listn)"
   ]
  },
  {
   "cell_type": "code",
   "execution_count": 22,
   "metadata": {},
   "outputs": [
    {
     "data": {
      "text/plain": [
       "'dcba4321'"
      ]
     },
     "execution_count": 22,
     "metadata": {},
     "output_type": "execute_result"
    }
   ],
   "source": [
    "#4. Write a Python program to reverse a string.\n",
    "#Sample \n",
    "String1 = \"1234abcd\"\n",
    "\n",
    "def rever(a):\n",
    "    return a[::-1]\n",
    "\n",
    "rever(String1)\n"
   ]
  },
  {
   "cell_type": "code",
   "execution_count": 27,
   "metadata": {},
   "outputs": [
    {
     "data": {
      "text/plain": [
       "120"
      ]
     },
     "execution_count": 27,
     "metadata": {},
     "output_type": "execute_result"
    }
   ],
   "source": [
    "#5. Write a Python function to calculate the factorial of a number (a non-negative integer). The function accepts the number as an argument\n",
    "\n",
    "def fact(numbe):\n",
    "    if numbe == 0:\n",
    "       return 1\n",
    "    else:\n",
    "        return numbe * fact(numbe-1)\n",
    "    \n",
    "fact(5)"
   ]
  },
  {
   "cell_type": "code",
   "execution_count": 34,
   "metadata": {},
   "outputs": [
    {
     "data": {
      "text/plain": [
       "True"
      ]
     },
     "execution_count": 34,
     "metadata": {},
     "output_type": "execute_result"
    }
   ],
   "source": [
    "# 6. Write a Python function to check whether a number falls within a given range.\n",
    "\n",
    "def whether(n, start_num, end_num):\n",
    "    return start_num<=n<=end_num if end_num>=start_num else end_num<=n<=start_num\n",
    "\n",
    "whether(1,1,6)"
   ]
  },
  {
   "cell_type": "code",
   "execution_count": 39,
   "metadata": {},
   "outputs": [
    {
     "name": "stdout",
     "output_type": "stream",
     "text": [
      "Original String:  The quick Brown Fox\n",
      "No. of Upper case characters:  3\n",
      "No. of Lower case Characters:  13\n"
     ]
    }
   ],
   "source": [
    "#7. Write a Python function that accepts a string and counts the number of upper and lower case letters.\n",
    "#Sample \n",
    "\n",
    "\n",
    "\n",
    "def string_test(s):\n",
    "    d = {\"UPPER_CASE\": 0, \"LOWER_CASE\": 0}\n",
    "    for c in s:\n",
    "        if c.isupper():\n",
    "            d[\"UPPER_CASE\"] += 1\n",
    "        elif c.islower():\n",
    "            d[\"LOWER_CASE\"] += 1\n",
    "        else:\n",
    "            pass\n",
    "    \n",
    "   \n",
    "    print(\"Original String: \", s)\n",
    "    print(\"No. of Upper case characters: \", d[\"UPPER_CASE\"])\n",
    "    print(\"No. of Lower case Characters: \", d[\"LOWER_CASE\"])\n",
    "\n",
    "string_test('The quick Brown Fox') \n",
    "\n",
    "\n"
   ]
  },
  {
   "cell_type": "code",
   "execution_count": 40,
   "metadata": {},
   "outputs": [
    {
     "name": "stdout",
     "output_type": "stream",
     "text": [
      "[1, 2, 3, 4, 5]\n"
     ]
    }
   ],
   "source": [
    "#8. Write a Python function that takes a list and returns a new list with distinct elements from the first list.\n",
    "#Sample \n",
    "\n",
    "List1 = [1,2,3,3,3,3,4,5]\n",
    "\n",
    "def distinct(a):\n",
    "    print(list(set(a)))\n",
    "\n",
    "distinct(List1)\n"
   ]
  },
  {
   "cell_type": "code",
   "execution_count": 47,
   "metadata": {},
   "outputs": [
    {
     "name": "stdout",
     "output_type": "stream",
     "text": [
      "True\n"
     ]
    }
   ],
   "source": [
    "#9. Write a Python function that takes a number as a parameter and checks whether the number is prime or not.\n",
    "#Note : A prime number (or a prime) is a natural number greater than 1 and that has no positive divisors other than 1 and itself.\n",
    "\n",
    "def par(a):\n",
    "    if a == 1:\n",
    "        return True\n",
    "    elif a == 2:\n",
    "        return True\n",
    "    else:\n",
    "        for b in  range(2,a):\n",
    "            if (a % b == 0):\n",
    "                return False\n",
    "        return True\n",
    "    \n",
    "print(par(11))\n",
    "           \n",
    "    \n",
    "\n"
   ]
  },
  {
   "cell_type": "code",
   "execution_count": 65,
   "metadata": {},
   "outputs": [
    {
     "data": {
      "text/plain": [
       "[2, 4, 6, 8]"
      ]
     },
     "execution_count": 65,
     "metadata": {},
     "output_type": "execute_result"
    }
   ],
   "source": [
    "#10. Write a Python program to print the even numbers from a given list.\n",
    "#Sample \n",
    "lis1 = [1, 2, 3, 4, 5, 6, 7, 8, 9]\n",
    "\n",
    "def find_even(a):\n",
    "    even = []\n",
    "    for b in a:\n",
    "        if b % 2 == 0:\n",
    "           even.append(b)\n",
    "    return even\n",
    "  \n",
    "        \n",
    "find_even(lis1)"
   ]
  },
  {
   "cell_type": "code",
   "execution_count": 69,
   "metadata": {},
   "outputs": [
    {
     "name": "stdout",
     "output_type": "stream",
     "text": [
      "True\n"
     ]
    }
   ],
   "source": [
    "# 11. Write a Python function to check whether a number is \"Perfect\" or not.\n",
    "# According to Wikipedia : In number theory, a perfect number is a positive integer that is equal to the sum of its proper positive divisors, that is, the sum of its positive divisors excluding the number itself (also known as its aliquot sum). Equivalently, a perfect number is a number that is half the sum of all of its positive divisors (including itself).\n",
    "# Example : The first perfect number is 6, because 1, 2, and 3 are its proper positive divisors, and 1 + 2 + 3 = 6. Equivalently, the number 6 is equal to half the sum of all its positive divisors: ( 1 + 2 + 3 + 6 ) / 2 = 6. The next perfect number is 28 = 1 + 2 + 4 + 7 + 14. This is followed by the perfect numbers 496 and 8128.\n",
    "\n",
    "def perfectnum(a):\n",
    "    summ = 0\n",
    "    for b in range(1,a):\n",
    "        if a % b == 0:\n",
    "            summ += b\n",
    "    return summ == a\n",
    "\n",
    "print(perfectnum(28)) "
   ]
  },
  {
   "cell_type": "code",
   "execution_count": 75,
   "metadata": {},
   "outputs": [
    {
     "data": {
      "text/plain": [
       "True"
      ]
     },
     "execution_count": 75,
     "metadata": {},
     "output_type": "execute_result"
    }
   ],
   "source": [
    "# 12. Write a Python function that checks whether a passed string is a palindrome or not.\n",
    "# Note: A palindrome is a word, phrase, or sequence that reads the same backward as forward, e.g., madam or nurses run.\n",
    "\n",
    "def palindrome(a):\n",
    "    a = a.replace(\" \", \"\").lower()\n",
    "\n",
    "    return a == a[::-1]\n",
    "\n",
    "palindrome(\"madam\")\n"
   ]
  },
  {
   "cell_type": "code",
   "execution_count": 81,
   "metadata": {},
   "outputs": [
    {
     "name": "stdout",
     "output_type": "stream",
     "text": [
      "[1]\n",
      "[1, 1]\n",
      "[1, 2, 1]\n"
     ]
    }
   ],
   "source": [
    "# 13. Write a Python function that prints out the first n rows of Pascal's triangle.\n",
    "# Note : Pascal's triangle is an arithmetic and geometric figure first imagined by Blaise Pascal.\n",
    "\n",
    "def pascal_tri(a):\n",
    "    triangle = []\n",
    "    for b in range(a):\n",
    "        row = [1] * (b +1)\n",
    "\n",
    "        for c in range(1, b):\n",
    "            row[c] = triangle[b - 1][c - 1] + triangle[b - 1][c]\n",
    "        triangle.append(row)\n",
    "\n",
    "    for row in triangle:\n",
    "        print(row)\n",
    "\n",
    "a = 3\n",
    "pascal_tri(a)"
   ]
  },
  {
   "cell_type": "code",
   "execution_count": 85,
   "metadata": {},
   "outputs": [
    {
     "name": "stdout",
     "output_type": "stream",
     "text": [
      "True\n"
     ]
    }
   ],
   "source": [
    "# 14. Write a Python function to check whether a string is a pangram or not.\n",
    "# Note : Pangrams are words or sentences containing every letter of the alphabet at least once.\n",
    "# For example : \"The quick brown fox jumps over the lazy dog\"\n",
    "\n"
   ]
  },
  {
   "cell_type": "code",
   "execution_count": 99,
   "metadata": {},
   "outputs": [
    {
     "name": "stdout",
     "output_type": "stream",
     "text": [
      "Sorted : black-green-red-white-yellow\n"
     ]
    }
   ],
   "source": [
    "# 15. Write a Python program that accepts a hyphen-separated sequence of words as input and prints the words in a hyphen-separated sequence after sorting them alphabetically.\n",
    "# Sample\n",
    "\n",
    "\n",
    "def sort_word(str1):\n",
    "    words = str1.split('-')\n",
    "    words.sort()\n",
    "\n",
    "    return '-'.join(words)\n",
    "\n",
    "str1 = 'green-red-yellow-black-white'\n",
    "\n",
    "a = sort_word(str1)\n",
    "print('Sorted :', a)\n"
   ]
  },
  {
   "cell_type": "code",
   "execution_count": 13,
   "metadata": {},
   "outputs": [
    {
     "name": "stdout",
     "output_type": "stream",
     "text": [
      "[1, 4, 9, 16, 25, 36, 49, 64, 81, 100, 121, 144, 169, 196, 225, 256, 289, 324, 361, 400, 441, 484, 529, 576, 625, 676, 729, 784, 841, 900, 961]\n"
     ]
    }
   ],
   "source": [
    "#16. Write a Python function to create and print a list where the values are the squares of numbers between 1 and 30 (both included).\n",
    "\n",
    "def cre_list():\n",
    "    squa = list()\n",
    "    for i in range(1,32):\n",
    "        squa.append(i**2)\n",
    "    print(squa)\n",
    "\n",
    "cre_list()"
   ]
  },
  {
   "cell_type": "code",
   "execution_count": 14,
   "metadata": {},
   "outputs": [
    {
     "name": "stdout",
     "output_type": "stream",
     "text": [
      "<b><i><i>hello world/i</i><b>\n"
     ]
    }
   ],
   "source": [
    "#17. Write a Python program to create a chain of function decorators (bold, italic, underline etc.).\n",
    "def make_bold(fn):\n",
    "    def wrapped():\n",
    "        return \"<b>\" + fn() + \"<b>\"\n",
    "    return wrapped\n",
    "\n",
    "def make_italic(fn):\n",
    "    def wrapped():\n",
    "        return \"<i>\" + fn() + \"</i>\"\n",
    "    return wrapped\n",
    "\n",
    "def make_underline(fn):\n",
    "    def wrapped():\n",
    "        return \"<i>\" + fn() + \"/i\"\n",
    "    return wrapped\n",
    "\n",
    "@make_bold\n",
    "@make_italic\n",
    "@make_underline\n",
    "def hello():\n",
    "    return \"hello world\"\n",
    "\n",
    "print(hello())"
   ]
  },
  {
   "cell_type": "code",
   "execution_count": 21,
   "metadata": {},
   "outputs": [
    {
     "name": "stdout",
     "output_type": "stream",
     "text": [
      "hello world\n",
      "Multiply of 2 and 3 is:  6\n"
     ]
    }
   ],
   "source": [
    "#18. Write a Python program to execute a string containing Python code.\n",
    "\n",
    "mycode = 'print(\"hello world\")'\n",
    "\n",
    "code = \"\"\"\n",
    "def mutiply(x,y):\n",
    "    return x*y\n",
    "\n",
    "print('Multiply of 2 and 3 is: ',mutiply(2,3))\n",
    "\"\"\"\n",
    "\n",
    "exec(mycode)\n",
    "exec(code)"
   ]
  }
 ],
 "metadata": {
  "kernelspec": {
   "display_name": "Python 3",
   "language": "python",
   "name": "python3"
  },
  "language_info": {
   "codemirror_mode": {
    "name": "ipython",
    "version": 3
   },
   "file_extension": ".py",
   "mimetype": "text/x-python",
   "name": "python",
   "nbconvert_exporter": "python",
   "pygments_lexer": "ipython3",
   "version": "3.12.8"
  }
 },
 "nbformat": 4,
 "nbformat_minor": 2
}
