{
 "cells": [
  {
   "cell_type": "code",
   "execution_count": 23,
   "metadata": {},
   "outputs": [
    {
     "name": "stdout",
     "output_type": "stream",
     "text": [
      "[3, 6, 9, 12, 15, 18]\n"
     ]
    }
   ],
   "source": [
    "# 1. Write a Python program to triple all numbers in a given list of integers. Use Python map.\n",
    "nums = (1,2,3,4,5,6)\n",
    "\n",
    "res = list(map(lambda x: x * 3, nums))\n",
    "print(res)"
   ]
  },
  {
   "cell_type": "code",
   "execution_count": 25,
   "metadata": {},
   "outputs": [
    {
     "name": "stdout",
     "output_type": "stream",
     "text": [
      "[11, 14, 17, 20]\n"
     ]
    }
   ],
   "source": [
    "#2. Write a Python program to add three given lists using Python map and lambda.\n",
    "a = [1,2,3,4]\n",
    "b = [4,5,6,7]\n",
    "c = [6,7,8,9]\n",
    "\n",
    "res = list(map(lambda x, y, z: x+y+z, a, b, c))\n",
    "print(res)"
   ]
  },
  {
   "cell_type": "code",
   "execution_count": 29,
   "metadata": {},
   "outputs": [
    {
     "name": "stdout",
     "output_type": "stream",
     "text": [
      "[['l', 'e', 's', 's', 'o', 'n'], ['c', 'l', 'a', 's', 's'], ['c', 'h', 'a', 'p', 't', 'e', 'r']]\n"
     ]
    }
   ],
   "source": [
    "#3. Write a Python program to listify the list of given strings individually using Python map\n",
    "str1 = ['lesson', 'class', 'chapter']\n",
    "\n",
    "res = list(map(list,str1))\n",
    "print(res)"
   ]
  },
  {
   "cell_type": "code",
   "execution_count": 30,
   "metadata": {},
   "outputs": [
    {
     "name": "stdout",
     "output_type": "stream",
     "text": [
      "[10, 400, 27000, 2560000]\n"
     ]
    }
   ],
   "source": [
    "#4. Write a Python program to create a list containing the power of said number in bases raised to the corresponding number in the index using Python map.\n",
    "num = [10,20,30,40]\n",
    "nums = [1,2,3,4]\n",
    "\n",
    "a = list(map(pow, num, nums))\n",
    "print(a)"
   ]
  },
  {
   "cell_type": "code",
   "execution_count": 34,
   "metadata": {},
   "outputs": [
    {
     "name": "stdout",
     "output_type": "stream",
     "text": [
      "[4, 9, 16, 25, 36, 49, 49]\n"
     ]
    }
   ],
   "source": [
    "#5. Write a Python program to square the elements of a list using the map() function.\n",
    "nu = [2,3,4,5,6,7,7]\n",
    "un = list(map(lambda x: x ** 2,nu))\n",
    "print(un)"
   ]
  },
  {
   "cell_type": "code",
   "execution_count": 72,
   "metadata": {},
   "outputs": [
    {
     "name": "stdout",
     "output_type": "stream",
     "text": [
      "{('C', 'c'), ('S', 's'), ('B', 'b'), ('A', 'a')}\n"
     ]
    }
   ],
   "source": [
    "#6. Write a Python program to convert all the characters into uppercase and lowercase and eliminate duplicate letters from a given sequence. Use the map() function.\n",
    "bnb = {'a', 'b', 'c', 'a','s'}\n",
    "\n",
    "def upper_case(n):\n",
    "    return n.upper(), n.lower()\n",
    "\n",
    "uper = map(upper_case, bnb)\n",
    "\n",
    "print(set(uper))"
   ]
  },
  {
   "cell_type": "code",
   "execution_count": 71,
   "metadata": {},
   "outputs": [
    {
     "name": "stdout",
     "output_type": "stream",
     "text": [
      "('A', 'a')\n",
      "('S', 's')\n",
      "('C', 'c')\n",
      "('B', 'b')\n"
     ]
    }
   ],
   "source": [
    "bnb = {'a', 'b', 'c', 'a','s'}\n",
    "\n",
    "def upper_case(n):\n",
    "    return n.upper(), n.lower()\n",
    "\n",
    "bnb = set(bnb)\n",
    "\n",
    "uper = map(upper_case, bnb)\n",
    "\n",
    "for item in uper:\n",
    "    print(item)"
   ]
  },
  {
   "cell_type": "code",
   "execution_count": 74,
   "metadata": {},
   "outputs": [
    {
     "name": "stdout",
     "output_type": "stream",
     "text": [
      "[15, 14, 12, 10, 8]\n",
      "[3, 4, 4, 4, 4]\n"
     ]
    }
   ],
   "source": [
    "#7. Write a Python program to add two given lists and find the difference between them. Use the map() function.\n",
    "a = [9,9,8,7,6]\n",
    "b = [6,5,4,3,2]\n",
    "\n",
    "addd = map(lambda x, y: x+y, a,b)\n",
    "print(list(addd))\n",
    "\n",
    "diff = map(lambda x, y: x-y, a,b)\n",
    "print(list(diff))"
   ]
  },
  {
   "cell_type": "code",
   "execution_count": 76,
   "metadata": {},
   "outputs": [
    {
     "name": "stdout",
     "output_type": "stream",
     "text": [
      "[(15, 3), (14, 4), (12, 4), (10, 4), (8, 4)]\n"
     ]
    }
   ],
   "source": [
    "a = [9,9,8,7,6]\n",
    "b = [6,5,4,3,2]\n",
    "\n",
    "\n",
    "def add_diff(a,b):\n",
    "    return a+b, a-b\n",
    "\n",
    "res = map(add_diff, a,b)\n",
    "print(list(res))"
   ]
  },
  {
   "cell_type": "code",
   "execution_count": 117,
   "metadata": {},
   "outputs": [
    {
     "name": "stdout",
     "output_type": "stream",
     "text": [
      "['1', '2', '3', '4']\n",
      "('1', '2', '3', '4')\n"
     ]
    }
   ],
   "source": [
    "#8. Write a Python program to convert a given list of integers and a tuple of integers in a list of strings.\n",
    "\n",
    "number_list =  [1,2,3,4]\n",
    "number_tuple = (1,2,3,4)\n",
    "\n",
    "num_list = list(map(str, number_list))\n",
    "print(num_list)\n",
    "\n",
    "num_tuple = tuple(map(str, number_tuple))\n",
    "print(num_tuple)\n"
   ]
  },
  {
   "cell_type": "code",
   "execution_count": 92,
   "metadata": {},
   "outputs": [
    {
     "name": "stdout",
     "output_type": "stream",
     "text": [
      "['Alberto Franco', 'Gino Mcneill', 'Ryan Parkes', 'Eesha Hinton']\n",
      "['15/05/2002', '17/05/2002', '16/02/1999', '25/09/1998']\n",
      "[35, 37, 39, 35]\n"
     ]
    }
   ],
   "source": [
    "#9. Write a Python program to create a new list taking specific elements from a tuple and convert a string value to an integer\n",
    "student_data  = [('Alberto Franco','15/05/2002','35kg'), ('Gino Mcneill','17/05/2002','37kg'), ('Ryan Parkes','16/02/1999', '39kg'), ('Eesha Hinton','25/09/1998', '35kg')]\n",
    "\n",
    "student_name = list(map(lambda x: x[0],student_data))\n",
    "print(student_name)\n",
    "\n",
    "student_date = list(map(lambda x: x[1], student_data))\n",
    "print(student_date)\n",
    "\n",
    "student_weight = list(map(lambda x: int(x[2][:-2]),student_data))\n",
    "print(student_weight)\n",
    "\n"
   ]
  },
  {
   "cell_type": "code",
   "execution_count": 115,
   "metadata": {},
   "outputs": [
    {
     "name": "stdout",
     "output_type": "stream",
     "text": [
      "[0, 1, 1, 4, 9, 25, 64, 169, 441, 1156]\n"
     ]
    }
   ],
   "source": [
    "#10. Write a Python program to compute the square of the first N Fibonacci numbers, using the map function and generate a list of the numbers.\n",
    "\n",
    "def fibonacci(n):\n",
    "    start_fibo = [0,1]\n",
    "    for i in range(2,n):\n",
    "        start_fibo.append(start_fibo[-1] + start_fibo[-2])\n",
    "    return start_fibo\n",
    "\n",
    "fib_10 = fibonacci(10)\n",
    "\n",
    "square = lambda x: x**2\n",
    "print(list(map(square,fib_10)))\n"
   ]
  },
  {
   "cell_type": "code",
   "execution_count": 116,
   "metadata": {},
   "outputs": [
    {
     "name": "stdout",
     "output_type": "stream",
     "text": [
      "14\n"
     ]
    }
   ],
   "source": [
    "#11. Write a Python program to compute the sum of elements of an array of integers. Use the map() function.\n",
    "aray = [1,2,3,4,5,6,-7]\n",
    "\n",
    "def add_ele(x):\n",
    "    return x\n",
    "\n",
    "res = map(add_ele, aray)\n",
    "sum_res = sum(res)\n",
    "\n",
    "print(sum_res)"
   ]
  },
  {
   "cell_type": "code",
   "execution_count": null,
   "metadata": {},
   "outputs": [],
   "source": [
    "#12. Write a Python program to find the ratio of positive numbers, negative numbers and zeroes in an array of integers.\n"
   ]
  },
  {
   "cell_type": "code",
   "execution_count": null,
   "metadata": {},
   "outputs": [],
   "source": [
    "#13. Write a Python program to count the same pair in two given lists. use map() function.\n"
   ]
  },
  {
   "cell_type": "code",
   "execution_count": 2,
   "metadata": {},
   "outputs": [
    {
     "name": "stdout",
     "output_type": "stream",
     "text": [
      "[3, 4, 2, 6, 1, 2, 5, 3, 4, 5]\n"
     ]
    }
   ],
   "source": [
    "#14. Write a Python program to interleave two lists into another list randomly. Use the map() function.\n",
    "import random\n",
    "def random_inter(num,num1):\n",
    "    iterator = [iter(num)] * len(num) + [iter(num1)]* len(num1)\n",
    "    result = list(map(next, random.sample(iterator,len(num)+len(num1))))\n",
    "    return result\n",
    "\n",
    "num = [1,2,3,4,5]\n",
    "num1 = [3,4,2,6,5]\n",
    " \n",
    "print(random_inter(num, num1))\n"
   ]
  },
  {
   "cell_type": "code",
   "execution_count": null,
   "metadata": {},
   "outputs": [],
   "source": [
    "#15. Write a Python program to split a given dictionary of lists into list of dictionaries using the map function.\n",
    "\n"
   ]
  },
  {
   "cell_type": "code",
   "execution_count": 4,
   "metadata": {},
   "outputs": [
    {
     "name": "stdout",
     "output_type": "stream",
     "text": [
      "[['C', 'l', 'a', 's', 's'], ['l', 'e', 's', 's', 'o', 'n'], ['r', 'o', 'o', 'm']]\n"
     ]
    }
   ],
   "source": [
    "#16. Write a Python program to convert a given list of strings into a list of lists using the map function.\n",
    "list_a = ['Class', 'lesson', 'room']\n",
    "\n",
    "list_list = list(map(list,list_a))\n",
    "print(list_list)"
   ]
  },
  {
   "cell_type": "code",
   "execution_count": 6,
   "metadata": {},
   "outputs": [
    {
     "name": "stdout",
     "output_type": "stream",
     "text": [
      "['Class', 'lesson', 'room']\n"
     ]
    }
   ],
   "source": [
    "#17. Write a Python program to convert a given list of tuples to a list of strings using the map function.\n",
    "\n",
    "def list_string(a):\n",
    "    res = list(map(str, a))\n",
    "    return res\n",
    "\n",
    "list_a = [('Class'), ('lesson'), ('room')]\n",
    "\n",
    "print(list_string(list_a))\n",
    "\n"
   ]
  }
 ],
 "metadata": {
  "kernelspec": {
   "display_name": "Python 3",
   "language": "python",
   "name": "python3"
  },
  "language_info": {
   "codemirror_mode": {
    "name": "ipython",
    "version": 3
   },
   "file_extension": ".py",
   "mimetype": "text/x-python",
   "name": "python",
   "nbconvert_exporter": "python",
   "pygments_lexer": "ipython3",
   "version": "3.12.8"
  }
 },
 "nbformat": 4,
 "nbformat_minor": 2
}
