{
 "cells": [
  {
   "cell_type": "code",
   "execution_count": 4,
   "metadata": {},
   "outputs": [
    {
     "name": "stdout",
     "output_type": "stream",
     "text": [
      "[1, 3, 5, 7, 9]\n"
     ]
    }
   ],
   "source": [
    "# 1. Write a Python function that filters out even numbers from a list of integers using the filter function.\n",
    "\n",
    "number = [1,2,3,4,5,6,7,8,9]\n",
    "\n",
    "def even_num(a):\n",
    "    return a % 2 != 0\n",
    "\n",
    "odd_number = list(filter(even_num,number))\n",
    "print(odd_number)"
   ]
  },
  {
   "cell_type": "code",
   "execution_count": 5,
   "metadata": {},
   "outputs": [
    {
     "name": "stdout",
     "output_type": "stream",
     "text": [
      "['H', 'P', 'F', 'L']\n"
     ]
    }
   ],
   "source": [
    "# 2. Write a Python program that uses the filter function to extract all uppercase letters from a list of mixed-case strings.\n",
    "\n",
    "mixed_case_str = [\"Hello\", \"w3resource\", \"Python\", \"Filter\", \"Learning\"]\n",
    "\n",
    "upper_case = list(filter(lambda char: char.isupper(), ''.join(mixed_case_str)))\n",
    "print(upper_case)\n",
    "    "
   ]
  },
  {
   "cell_type": "code",
   "execution_count": 9,
   "metadata": {},
   "outputs": [
    {
     "name": "stdout",
     "output_type": "stream",
     "text": [
      "[1, 2, 3, 4, 5, 6, 7, 7, 8, 3]\n"
     ]
    }
   ],
   "source": [
    "#3. Write a Python function that filters out all elements less than or equal than a specified value from a list of numbers using the filter function.\n",
    "num_list = [1,2,3,4,5,12,6,7,7,78,8,34,3]\n",
    "\n",
    "def spe_num(a):\n",
    "    return 10 >= a\n",
    "            \n",
    "\n",
    "fil_num = list(filter(spe_num, num_list))\n",
    "print(fil_num)"
   ]
  },
  {
   "cell_type": "code",
   "execution_count": 13,
   "metadata": {},
   "outputs": [
    {
     "name": "stdout",
     "output_type": "stream",
     "text": [
      "['Elita', 'Atalanta', 'Elche', 'Udineza']\n"
     ]
    }
   ],
   "source": [
    "# 4. Write a Python program that creates a list of names and uses the filter function to extract names that start with a vowel (A, E, I, O, U)\n",
    "\n",
    "words = ['Elita', 'Vancuver', 'Atalanta', 'Benfica', 'Lans', 'Elche', 'Udineza']\n",
    "\n",
    "def vowel(b):\n",
    "    return b[0].upper() in ('A','E','I','O','U')\n",
    "\n",
    "fil_vowel = list(filter(vowel, words))\n",
    "print(fil_vowel)"
   ]
  },
  {
   "cell_type": "code",
   "execution_count": 14,
   "metadata": {},
   "outputs": [
    {
     "name": "stdout",
     "output_type": "stream",
     "text": [
      "['lost', 'nothing', 'everything']\n"
     ]
    }
   ],
   "source": [
    "#5. Write a Python function that filters out all empty strings from a list of strings using the filter function.\n",
    "word_list = ['', 'lost', '', 'nothing', 'everything','']\n",
    "\n",
    "def empty_filter(n):\n",
    "    return n.strip() != ''\n",
    "\n",
    "print(list(filter(empty_filter, word_list)))"
   ]
  },
  {
   "cell_type": "code",
   "execution_count": 29,
   "metadata": {},
   "outputs": [
    {
     "name": "stdout",
     "output_type": "stream",
     "text": [
      "[{'name': 'Ace', 'age': 20, 'grade': 96}, {'name': 'Donk', 'age': 19, 'grade': 95}]\n"
     ]
    }
   ],
   "source": [
    "# 6. Write a Python program that creates a list of dictionaries containing student information (name, age, grade) and uses the filter function to extract students with a grade greater than or equal to 95.\n",
    "\n",
    "student = [\n",
    "    {'name':'John', 'age': 19, 'grade':90},\n",
    "    {'name':'Ace', 'age': 20, 'grade':96},\n",
    "    {'name':'Donk', 'age': 19, 'grade': 95}\n",
    "]\n",
    "\n",
    "def fil_stu(n):\n",
    "    return n['grade'] >= 95\n",
    "\n",
    "stu_fil = list(filter(fil_stu,student))\n",
    "\n",
    "print(stu_fil)"
   ]
  },
  {
   "cell_type": "code",
   "execution_count": 39,
   "metadata": {},
   "outputs": [
    {
     "name": "stdout",
     "output_type": "stream",
     "text": [
      "False\n"
     ]
    }
   ],
   "source": [
    "# 7. Write a Python program that filters out prime numbers from a list of integers using the filter function\n",
    "def prime_num(n):\n",
    "    if n <= 1:\n",
    "        return False\n",
    "    for i in range(2,int(n**0.5) +1):\n",
    "        if n%i == 0:\n",
    "            return False\n",
    "    return True\n",
    "\n",
    "print(prime_num(6))"
   ]
  },
  {
   "cell_type": "code",
   "execution_count": 40,
   "metadata": {},
   "outputs": [
    {
     "name": "stdout",
     "output_type": "stream",
     "text": [
      "['lesson', 'impposible', 'ispposible', 'manchester']\n"
     ]
    }
   ],
   "source": [
    "# 8. Write a Python program that creates a list of words and use the filter function to extract words that contain more than five letters.\n",
    "word_l =['lesson','book','stone','impposible','ispposible','manchester','nani']\n",
    "\n",
    "def fil_words(w):\n",
    "    return len(w) > 5\n",
    "\n",
    "print(list(filter(fil_words, word_l)))"
   ]
  },
  {
   "cell_type": "code",
   "execution_count": 60,
   "metadata": {},
   "outputs": [
    {
     "name": "stdout",
     "output_type": "stream",
     "text": [
      "['lesson', 'book', 'stone', 'manchester', 'nani']\n"
     ]
    }
   ],
   "source": [
    "# 9. Write a Python function that filters out elements from a list of strings containing a specific substring using the filter function.\n",
    "word_lists =['lesson','book','stone','impposible','ispposible','manchester','nani']\n",
    "substring = 'posible'\n",
    "\n",
    "def subs(s, substring):\n",
    "    result = list(filter(lambda x: substring not in x, s))\n",
    "    return result\n",
    "\n",
    "fil = subs(word_lists, substring)\n",
    "print(fil)\n",
    "\n"
   ]
  },
  {
   "cell_type": "code",
   "execution_count": null,
   "metadata": {},
   "outputs": [
    {
     "ename": "TypeError",
     "evalue": "'>' not supported between instances of 'str' and 'datetime.datetime'",
     "output_type": "error",
     "traceback": [
      "\u001b[1;31m---------------------------------------------------------------------------\u001b[0m",
      "\u001b[1;31mTypeError\u001b[0m                                 Traceback (most recent call last)",
      "Cell \u001b[1;32mIn[63], line 9\u001b[0m\n\u001b[0;32m      6\u001b[0m \u001b[38;5;28;01mdef\u001b[39;00m \u001b[38;5;21mfuture_date\u001b[39m(d):\n\u001b[0;32m      7\u001b[0m     \u001b[38;5;28;01mreturn\u001b[39;00m d \u001b[38;5;241m>\u001b[39m curren_date\n\u001b[1;32m----> 9\u001b[0m f \u001b[38;5;241m=\u001b[39m \u001b[38;5;28;43mlist\u001b[39;49m\u001b[43m(\u001b[49m\u001b[38;5;28;43mfilter\u001b[39;49m\u001b[43m(\u001b[49m\u001b[43mfuture_date\u001b[49m\u001b[43m,\u001b[49m\u001b[43m \u001b[49m\u001b[43mdates\u001b[49m\u001b[43m)\u001b[49m\u001b[43m)\u001b[49m\n",
      "Cell \u001b[1;32mIn[63], line 7\u001b[0m, in \u001b[0;36mfuture_date\u001b[1;34m(d)\u001b[0m\n\u001b[0;32m      6\u001b[0m \u001b[38;5;28;01mdef\u001b[39;00m \u001b[38;5;21mfuture_date\u001b[39m(d):\n\u001b[1;32m----> 7\u001b[0m     \u001b[38;5;28;01mreturn\u001b[39;00m \u001b[43md\u001b[49m\u001b[43m \u001b[49m\u001b[38;5;241;43m>\u001b[39;49m\u001b[43m \u001b[49m\u001b[43mcurren_date\u001b[49m\n",
      "\u001b[1;31mTypeError\u001b[0m: '>' not supported between instances of 'str' and 'datetime.datetime'"
     ]
    }
   ],
   "source": [
    "#10. Write a Python program that implements a Python program that filters out dates (in the format \"YYYY-MM-DD\") that are in the future using the filter function.\n",
    "from datetime import datetime\n",
    "dates = ['2023-02-23', '2025-05-26','2024-09-09','2032-05-17']\n",
    "curren_date = datetime.now()\n",
    "\n",
    "def future_date(d):\n",
    "    return d > curren_date\n",
    "\n",
    "f = list(filter(future_date, dates))"
   ]
  },
  {
   "cell_type": "code",
   "execution_count": 65,
   "metadata": {},
   "outputs": [
    {
     "name": "stdout",
     "output_type": "stream",
     "text": [
      "[('London', 3500000), ('Berlin', 2900000), ('Tokio', 4500000)]\n"
     ]
    }
   ],
   "source": [
    "#11. Write a Python program that creates a list of tuples, each containing a city name and its population. Use the filter function to extract cities with a population greater than 2 million.\n",
    "\n",
    "city = [('London', 3500000),('Berlin', 2900000),('Tokio', 4500000), ('Vatikan', 1500000)]\n",
    "\n",
    "def mil(n):\n",
    "    return n[1] > 2000000\n",
    "\n",
    "print(list(filter(mil, city)))"
   ]
  }
 ],
 "metadata": {
  "kernelspec": {
   "display_name": "Python 3",
   "language": "python",
   "name": "python3"
  },
  "language_info": {
   "codemirror_mode": {
    "name": "ipython",
    "version": 3
   },
   "file_extension": ".py",
   "mimetype": "text/x-python",
   "name": "python",
   "nbconvert_exporter": "python",
   "pygments_lexer": "ipython3",
   "version": "3.12.8"
  }
 },
 "nbformat": 4,
 "nbformat_minor": 2
}
